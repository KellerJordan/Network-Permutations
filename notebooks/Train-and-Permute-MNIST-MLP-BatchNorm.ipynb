{
 "cells": [
  {
   "cell_type": "markdown",
   "id": "b1e5ba46",
   "metadata": {},
   "source": [
    "# Train-and-Permute-MNIST-MLP"
   ]
  },
  {
   "cell_type": "code",
   "execution_count": 6,
   "id": "c0db779d",
   "metadata": {},
   "outputs": [],
   "source": [
    "import os\n",
    "import sys\n",
    "\n",
    "from tqdm import tqdm\n",
    "import numpy as np\n",
    "import matplotlib.pyplot as plt\n",
    "import scipy.optimize\n",
    "\n",
    "import torch\n",
    "from torch import nn\n",
    "from torch.cuda.amp import GradScaler, autocast\n",
    "from torch.nn import CrossEntropyLoss\n",
    "from torch.optim import SGD, Adam, lr_scheduler\n",
    "import torchvision\n",
    "import torchvision.transforms as T"
   ]
  },
  {
   "cell_type": "code",
   "execution_count": 7,
   "id": "e738d780",
   "metadata": {},
   "outputs": [],
   "source": [
    "os.environ['CUDA_VISIBLE_DEVICES'] = '1'"
   ]
  },
  {
   "cell_type": "markdown",
   "id": "fdf1a55e",
   "metadata": {},
   "source": [
    "# setup"
   ]
  },
  {
   "cell_type": "code",
   "execution_count": 8,
   "id": "c477d1e9",
   "metadata": {},
   "outputs": [],
   "source": [
    "os.makedirs('./mlps3', exist_ok=True)\n",
    "def save_model(model, i):\n",
    "    sd = model.state_dict()\n",
    "    torch.save(model.state_dict(), 'mlps3/%s.pt' % i)\n",
    "\n",
    "def load_model(model, i):\n",
    "    sd = torch.load('mlps3/%s.pt' % i)\n",
    "    model.load_state_dict(sd)"
   ]
  },
  {
   "cell_type": "code",
   "execution_count": 9,
   "id": "f8e2e9f7",
   "metadata": {
    "scrolled": true
   },
   "outputs": [],
   "source": [
    "# # write ffcv files (only needs to be run once)\n",
    "# import torchvision\n",
    "# from ffcv.fields import IntField, RGBImageField\n",
    "# from ffcv.writer import DatasetWriter\n",
    "\n",
    "# transform = lambda img: img.convert('RGB')\n",
    "# train_dset = torchvision.datasets.MNIST(root='/tmp', download=True, train=True, transform=transform)\n",
    "# test_dset = torchvision.datasets.MNIST(root='/tmp', download=True, train=False, transform=transform)\n",
    "\n",
    "# datasets = { \n",
    "#     'train': train_dset,\n",
    "#     'test': test_dset,\n",
    "# }\n",
    "\n",
    "# for (name, ds) in datasets.items():\n",
    "#     writer = DatasetWriter(f'/tmp/mnist_{name}.beton', {\n",
    "#         'image': RGBImageField(),\n",
    "#         'label': IntField()\n",
    "#     })  \n",
    "#     writer.from_indexed_dataset(ds)"
   ]
  },
  {
   "cell_type": "code",
   "execution_count": 10,
   "id": "d371c1f3",
   "metadata": {},
   "outputs": [],
   "source": [
    "from ffcv.fields import IntField, RGBImageField\n",
    "from ffcv.fields.decoders import IntDecoder, SimpleRGBImageDecoder\n",
    "from ffcv.loader import Loader, OrderOption\n",
    "from ffcv.transforms import RandomHorizontalFlip, Cutout, \\\n",
    "    RandomTranslate, Convert, ToDevice, ToTensor, ToTorchImage\n",
    "from ffcv.transforms.common import Squeeze\n",
    "\n",
    "MNIST_MEAN = [33.32]\n",
    "MNIST_STD = [78.58]\n",
    "normalize = T.Normalize(np.array(MNIST_MEAN), np.array(MNIST_STD))\n",
    "\n",
    "## fast FFCV data loaders\n",
    "device = 'cuda:0' \n",
    "label_pipeline = [IntDecoder(), ToTensor(), ToDevice(device), Squeeze()]\n",
    "pre_p = [SimpleRGBImageDecoder()]\n",
    "post_p = [\n",
    "    ToTensor(),\n",
    "#     ToDevice(device, non_blocking=True), # this is faster but turns out to create a gpu-memory leak...\n",
    "    ToTorchImage(),\n",
    "    Convert(torch.float16),\n",
    "    normalize,\n",
    "]\n",
    "train_loader = train_noaug_loader = Loader(f'/tmp/mnist_train.beton',\n",
    "                     batch_size=2000,\n",
    "                     num_workers=8,\n",
    "                     order=OrderOption.RANDOM,\n",
    "                     drop_last=False,\n",
    "                     pipelines={'image': pre_p+post_p,\n",
    "                                'label': label_pipeline})\n",
    "test_loader = Loader(f'/tmp/mnist_test.beton',\n",
    "                     batch_size=2000,\n",
    "                     num_workers=8,\n",
    "                     order=OrderOption.SEQUENTIAL,\n",
    "                     drop_last=False,\n",
    "                     pipelines={'image': pre_p+post_p,\n",
    "                                'label': label_pipeline})"
   ]
  },
  {
   "cell_type": "code",
   "execution_count": 11,
   "id": "31e22780",
   "metadata": {},
   "outputs": [],
   "source": [
    "# evaluates accuracy\n",
    "def evaluate(model, loader=test_loader):\n",
    "    model.eval()\n",
    "    correct = 0\n",
    "    with torch.no_grad(), autocast():\n",
    "        for inputs, labels in loader:\n",
    "            outputs = model(inputs.cuda())\n",
    "            pred = outputs.argmax(dim=1)\n",
    "            correct += (labels.cuda() == pred).sum().item()\n",
    "    return correct\n",
    "\n",
    "# evaluates acc and loss\n",
    "def evaluate2(model, loader=test_loader):\n",
    "    model.eval()\n",
    "    losses = []\n",
    "    correct = 0\n",
    "    total = 0\n",
    "    with torch.no_grad(), autocast():\n",
    "        for inputs, labels in loader:\n",
    "            outputs = model(inputs.cuda())\n",
    "            pred = outputs.argmax(dim=1)\n",
    "            correct += (labels.cuda() == pred).sum().item()\n",
    "            total += len(labels)\n",
    "            loss = F.cross_entropy(outputs, labels.cuda())\n",
    "            losses.append(loss.item())\n",
    "    return correct / total, np.array(losses).mean()\n",
    "\n",
    "def full_eval1(model):\n",
    "    tr_acc, tr_loss = evaluate2(model, loader=train_noaug_loader)\n",
    "    te_acc, te_loss = evaluate2(model, loader=test_loader)\n",
    "    return '%.2f, %.3f, %.2f, %.3f' % (100*tr_acc, tr_loss, 100*te_acc, te_loss)\n",
    "\n",
    "def full_eval(model):\n",
    "    tr_acc, tr_loss = evaluate2(model, loader=train_noaug_loader)\n",
    "    te_acc, te_loss = evaluate2(model, loader=test_loader)\n",
    "    return (100*tr_acc, tr_loss, 100*te_acc, te_loss)"
   ]
  },
  {
   "cell_type": "code",
   "execution_count": 12,
   "id": "eb3707bf",
   "metadata": {},
   "outputs": [],
   "source": [
    "import torch.nn as nn\n",
    "import torch.nn.functional as F\n",
    "\n",
    "class NormMLP(nn.Module):\n",
    "    def __init__(self, h=128, layers=3):\n",
    "        super().__init__()\n",
    "        self.fc1 = nn.Linear(28*28, h, bias=False)\n",
    "        self.bn1 = nn.BatchNorm1d(h)\n",
    "        mid_layers = []\n",
    "        for _ in range(layers):\n",
    "            mid_layers.extend([\n",
    "                nn.Linear(h, h, bias=False),\n",
    "                nn.BatchNorm1d(h),\n",
    "                nn.ReLU(),\n",
    "            ])\n",
    "        self.layers = nn.Sequential(*mid_layers)\n",
    "        self.fc2 = nn.Linear(h, 10)\n",
    "\n",
    "    def forward(self, x):\n",
    "        if x.size(1) == 3:\n",
    "            x = x.mean(1, keepdim=True)\n",
    "        x = x.reshape(x.size(0), -1)\n",
    "        x = F.relu(self.bn1(self.fc1(x)))\n",
    "        x = self.layers(x)\n",
    "        x = self.fc2(x)\n",
    "        return x\n",
    "    \n",
    "class MLP(nn.Module):\n",
    "    def __init__(self, h=128, layers=3):\n",
    "        super().__init__()\n",
    "        self.fc1 = nn.Linear(28*28, h)\n",
    "        mid_layers = []\n",
    "        for _ in range(layers):\n",
    "            mid_layers.extend([nn.Linear(h, h), nn.ReLU()])\n",
    "        self.layers = nn.Sequential(*mid_layers)\n",
    "        self.fc2 = nn.Linear(h, 10)\n",
    "\n",
    "    def forward(self, x):\n",
    "        if x.size(1) == 3:\n",
    "            x = x.mean(1, keepdim=True)\n",
    "        x = x.reshape(x.size(0), -1)\n",
    "        x = F.relu(self.fc1(x))\n",
    "        x = self.layers(x)\n",
    "        x = self.fc2(x)\n",
    "        return x\n",
    "    \n",
    "def fuse_fc_bn(fc, bn):\n",
    "    fused = nn.Linear(fc.in_features, fc.out_features)\n",
    "    # setting weights\n",
    "    w_fc = fc.weight.clone()\n",
    "    bn_std = (bn.eps + bn.running_var).sqrt()\n",
    "    gamma = bn.weight / bn_std\n",
    "    fused.weight.data = (w_fc * gamma.reshape(-1, 1))\n",
    "    # setting bias\n",
    "    b_fc = fc.bias if fc.bias is not None else torch.zeros_like(bn.bias)\n",
    "    beta = bn.bias + gamma * (-bn.running_mean + b_fc)\n",
    "    fused.bias.data = beta\n",
    "    return fused\n",
    "    \n",
    "def fuse_net(net):\n",
    "    assert isinstance(net, NormMLP)\n",
    "    layers = len(net.layers)//3\n",
    "    h = len(net.fc1.weight)\n",
    "    net1 = MLP(h, layers)\n",
    "    net1.fc1 = fuse_fc_bn(net.fc1, net.bn1)\n",
    "    for i in range(layers):\n",
    "        net1.layers[2*i] = fuse_fc_bn(net.layers[3*i], net.layers[3*i+1])\n",
    "    net1.fc2.load_state_dict(net.fc2.state_dict())\n",
    "    return net1"
   ]
  },
  {
   "cell_type": "markdown",
   "id": "e42cdbf3",
   "metadata": {},
   "source": [
    "## Train and save two models"
   ]
  },
  {
   "cell_type": "code",
   "execution_count": 13,
   "id": "be81b287",
   "metadata": {},
   "outputs": [],
   "source": [
    "def train(save_key, layers=5, h=512):\n",
    "    model = NormMLP(h=h, layers=layers).cuda()\n",
    "\n",
    "    optimizer = SGD(model.parameters(), lr=0.05, momentum=0.9)\n",
    "\n",
    "    EPOCHS = 50\n",
    "    ne_iters = len(train_loader)\n",
    "    lr_schedule = np.interp(np.arange(1+EPOCHS*ne_iters), [0, 5*ne_iters, EPOCHS*ne_iters], [0, 1, 0])\n",
    "    scheduler = lr_scheduler.LambdaLR(optimizer, lr_schedule.__getitem__)\n",
    "\n",
    "    scaler = GradScaler()\n",
    "    loss_fn = CrossEntropyLoss()\n",
    "\n",
    "    for _ in tqdm(range(EPOCHS)):\n",
    "        model.train()\n",
    "        for i, (inputs, labels) in enumerate(train_loader):\n",
    "            optimizer.zero_grad(set_to_none=True)\n",
    "            with autocast():\n",
    "                outputs = model(inputs.cuda())\n",
    "                loss = loss_fn(outputs, labels.cuda())\n",
    "            scaler.scale(loss).backward()\n",
    "            scaler.step(optimizer)\n",
    "            scaler.update()\n",
    "            scheduler.step()\n",
    "    \n",
    "    print(evaluate(model))\n",
    "    save_model(model, save_key)"
   ]
  },
  {
   "cell_type": "code",
   "execution_count": 14,
   "id": "cd1a1226",
   "metadata": {
    "scrolled": true
   },
   "outputs": [],
   "source": [
    "# for layers in range(1, 51):\n",
    "#     h = 128\n",
    "#     train('mlp_e50_l%d_h%d_v1' % (layers, h), layers=layers, h=h)\n",
    "#     train('mlp_e50_l%d_h%d_v2' % (layers, h), layers=layers, h=h)"
   ]
  },
  {
   "cell_type": "markdown",
   "id": "32e46b7b",
   "metadata": {},
   "source": [
    "### matching code"
   ]
  },
  {
   "cell_type": "code",
   "execution_count": 15,
   "id": "363e68ea",
   "metadata": {},
   "outputs": [],
   "source": [
    "# given two networks net0, net1 which each output a feature map of shape NxCxWxH\n",
    "# this will reshape both outputs to (N*W*H)xC\n",
    "# and then compute a CxC correlation matrix between the outputs of the two networks\n",
    "def run_corr_matrix(net0, net1, epochs=1, loader=train_loader):\n",
    "    n = epochs*len(loader)\n",
    "    mean0 = mean1 = std0 = std1 = None\n",
    "    with torch.no_grad():\n",
    "        net0.eval()\n",
    "        net1.eval()\n",
    "        for _ in range(epochs):\n",
    "            for i, (images, _) in enumerate(tqdm(loader)):\n",
    "                img_t = images.float().cuda()\n",
    "                out0 = net0(img_t)\n",
    "                out0 = out0.reshape(out0.shape[0], out0.shape[1], -1).permute(0, 2, 1)\n",
    "                out0 = out0.reshape(-1, out0.shape[2]).double()\n",
    "\n",
    "                out1 = net1(img_t)\n",
    "                out1 = out1.reshape(out1.shape[0], out1.shape[1], -1).permute(0, 2, 1)\n",
    "                out1 = out1.reshape(-1, out1.shape[2]).double()\n",
    "\n",
    "                mean0_b = out0.mean(dim=0)\n",
    "                mean1_b = out1.mean(dim=0)\n",
    "                std0_b = out0.std(dim=0)\n",
    "                std1_b = out1.std(dim=0)\n",
    "                outer_b = (out0.T @ out1) / out0.shape[0]\n",
    "\n",
    "                if i == 0:\n",
    "                    mean0 = torch.zeros_like(mean0_b)\n",
    "                    mean1 = torch.zeros_like(mean1_b)\n",
    "                    std0 = torch.zeros_like(std0_b)\n",
    "                    std1 = torch.zeros_like(std1_b)\n",
    "                    outer = torch.zeros_like(outer_b)\n",
    "                mean0 += mean0_b / n\n",
    "                mean1 += mean1_b / n\n",
    "                std0 += std0_b / n\n",
    "                std1 += std1_b / n\n",
    "                outer += outer_b / n\n",
    "\n",
    "    cov = outer - torch.outer(mean0, mean1)\n",
    "    corr = cov / (torch.outer(std0, std1) + 1e-4)\n",
    "    return corr"
   ]
  },
  {
   "cell_type": "code",
   "execution_count": 16,
   "id": "1f9ef263",
   "metadata": {},
   "outputs": [],
   "source": [
    "def get_layer_perm1(corr_mtx):\n",
    "    corr_mtx_a = corr_mtx.cpu().numpy()\n",
    "    row_ind, col_ind = scipy.optimize.linear_sum_assignment(corr_mtx_a, maximize=True)\n",
    "    assert (row_ind == np.arange(len(corr_mtx_a))).all()\n",
    "    perm_map = torch.tensor(col_ind).long()\n",
    "    return perm_map\n",
    "\n",
    "# returns the channel-permutation to make layer1's activations most closely\n",
    "# match layer0's.\n",
    "def get_layer_perm(net0, net1):\n",
    "    corr_mtx = run_corr_matrix(net0, net1)\n",
    "    return get_layer_perm1(corr_mtx)"
   ]
  },
  {
   "cell_type": "markdown",
   "id": "09c8b84a",
   "metadata": {},
   "source": [
    "# Find neuron-permutation for each layer"
   ]
  },
  {
   "cell_type": "code",
   "execution_count": 17,
   "id": "72842551",
   "metadata": {
    "scrolled": true
   },
   "outputs": [
    {
     "ename": "KeyboardInterrupt",
     "evalue": "",
     "output_type": "error",
     "traceback": [
      "\u001b[0;31m---------------------------------------------------------------------------\u001b[0m",
      "\u001b[0;31mKeyboardInterrupt\u001b[0m                         Traceback (most recent call last)",
      "Input \u001b[0;32mIn [17]\u001b[0m, in \u001b[0;36m<cell line: 2>\u001b[0;34m()\u001b[0m\n\u001b[1;32m      4\u001b[0m v1, v2 \u001b[38;5;241m=\u001b[39m \u001b[38;5;241m1\u001b[39m, \u001b[38;5;241m2\u001b[39m\n\u001b[1;32m      5\u001b[0m h \u001b[38;5;241m=\u001b[39m \u001b[38;5;241m128\u001b[39m\n\u001b[0;32m----> 7\u001b[0m model0 \u001b[38;5;241m=\u001b[39m \u001b[43mNormMLP\u001b[49m\u001b[43m(\u001b[49m\u001b[43mh\u001b[49m\u001b[38;5;241;43m=\u001b[39;49m\u001b[43mh\u001b[49m\u001b[43m,\u001b[49m\u001b[43m \u001b[49m\u001b[43mlayers\u001b[49m\u001b[38;5;241;43m=\u001b[39;49m\u001b[43mlayers\u001b[49m\u001b[43m)\u001b[49m\u001b[38;5;241;43m.\u001b[39;49m\u001b[43mcuda\u001b[49m\u001b[43m(\u001b[49m\u001b[43m)\u001b[49m\n\u001b[1;32m      8\u001b[0m model1 \u001b[38;5;241m=\u001b[39m NormMLP(h\u001b[38;5;241m=\u001b[39mh, layers\u001b[38;5;241m=\u001b[39mlayers)\u001b[38;5;241m.\u001b[39mcuda()\n\u001b[1;32m      9\u001b[0m load_model(model0, \u001b[38;5;124m'\u001b[39m\u001b[38;5;124mmlp_e50_l\u001b[39m\u001b[38;5;132;01m%d\u001b[39;00m\u001b[38;5;124m_h\u001b[39m\u001b[38;5;132;01m%d\u001b[39;00m\u001b[38;5;124m_v\u001b[39m\u001b[38;5;132;01m%d\u001b[39;00m\u001b[38;5;124m'\u001b[39m \u001b[38;5;241m%\u001b[39m (layers, h, v1))\n",
      "File \u001b[0;32m/opt/conda/envs/ffcv/lib/python3.9/site-packages/torch/nn/modules/module.py:688\u001b[0m, in \u001b[0;36mModule.cuda\u001b[0;34m(self, device)\u001b[0m\n\u001b[1;32m    671\u001b[0m \u001b[38;5;28;01mdef\u001b[39;00m \u001b[38;5;21mcuda\u001b[39m(\u001b[38;5;28mself\u001b[39m: T, device: Optional[Union[\u001b[38;5;28mint\u001b[39m, device]] \u001b[38;5;241m=\u001b[39m \u001b[38;5;28;01mNone\u001b[39;00m) \u001b[38;5;241m-\u001b[39m\u001b[38;5;241m>\u001b[39m T:\n\u001b[1;32m    672\u001b[0m     \u001b[38;5;124mr\u001b[39m\u001b[38;5;124;03m\"\"\"Moves all model parameters and buffers to the GPU.\u001b[39;00m\n\u001b[1;32m    673\u001b[0m \n\u001b[1;32m    674\u001b[0m \u001b[38;5;124;03m    This also makes associated parameters and buffers different objects. So\u001b[39;00m\n\u001b[0;32m   (...)\u001b[0m\n\u001b[1;32m    686\u001b[0m \u001b[38;5;124;03m        Module: self\u001b[39;00m\n\u001b[1;32m    687\u001b[0m \u001b[38;5;124;03m    \"\"\"\u001b[39;00m\n\u001b[0;32m--> 688\u001b[0m     \u001b[38;5;28;01mreturn\u001b[39;00m \u001b[38;5;28;43mself\u001b[39;49m\u001b[38;5;241;43m.\u001b[39;49m\u001b[43m_apply\u001b[49m\u001b[43m(\u001b[49m\u001b[38;5;28;43;01mlambda\u001b[39;49;00m\u001b[43m \u001b[49m\u001b[43mt\u001b[49m\u001b[43m:\u001b[49m\u001b[43m \u001b[49m\u001b[43mt\u001b[49m\u001b[38;5;241;43m.\u001b[39;49m\u001b[43mcuda\u001b[49m\u001b[43m(\u001b[49m\u001b[43mdevice\u001b[49m\u001b[43m)\u001b[49m\u001b[43m)\u001b[49m\n",
      "File \u001b[0;32m/opt/conda/envs/ffcv/lib/python3.9/site-packages/torch/nn/modules/module.py:578\u001b[0m, in \u001b[0;36mModule._apply\u001b[0;34m(self, fn)\u001b[0m\n\u001b[1;32m    576\u001b[0m \u001b[38;5;28;01mdef\u001b[39;00m \u001b[38;5;21m_apply\u001b[39m(\u001b[38;5;28mself\u001b[39m, fn):\n\u001b[1;32m    577\u001b[0m     \u001b[38;5;28;01mfor\u001b[39;00m module \u001b[38;5;129;01min\u001b[39;00m \u001b[38;5;28mself\u001b[39m\u001b[38;5;241m.\u001b[39mchildren():\n\u001b[0;32m--> 578\u001b[0m         \u001b[43mmodule\u001b[49m\u001b[38;5;241;43m.\u001b[39;49m\u001b[43m_apply\u001b[49m\u001b[43m(\u001b[49m\u001b[43mfn\u001b[49m\u001b[43m)\u001b[49m\n\u001b[1;32m    580\u001b[0m     \u001b[38;5;28;01mdef\u001b[39;00m \u001b[38;5;21mcompute_should_use_set_data\u001b[39m(tensor, tensor_applied):\n\u001b[1;32m    581\u001b[0m         \u001b[38;5;28;01mif\u001b[39;00m torch\u001b[38;5;241m.\u001b[39m_has_compatible_shallow_copy_type(tensor, tensor_applied):\n\u001b[1;32m    582\u001b[0m             \u001b[38;5;66;03m# If the new tensor has compatible tensor type as the existing tensor,\u001b[39;00m\n\u001b[1;32m    583\u001b[0m             \u001b[38;5;66;03m# the current behavior is to change the tensor in-place using `.data =`,\u001b[39;00m\n\u001b[0;32m   (...)\u001b[0m\n\u001b[1;32m    588\u001b[0m             \u001b[38;5;66;03m# global flag to let the user control whether they want the future\u001b[39;00m\n\u001b[1;32m    589\u001b[0m             \u001b[38;5;66;03m# behavior of overwriting the existing tensor or not.\u001b[39;00m\n",
      "File \u001b[0;32m/opt/conda/envs/ffcv/lib/python3.9/site-packages/torch/nn/modules/module.py:601\u001b[0m, in \u001b[0;36mModule._apply\u001b[0;34m(self, fn)\u001b[0m\n\u001b[1;32m    597\u001b[0m \u001b[38;5;66;03m# Tensors stored in modules are graph leaves, and we don't want to\u001b[39;00m\n\u001b[1;32m    598\u001b[0m \u001b[38;5;66;03m# track autograd history of `param_applied`, so we have to use\u001b[39;00m\n\u001b[1;32m    599\u001b[0m \u001b[38;5;66;03m# `with torch.no_grad():`\u001b[39;00m\n\u001b[1;32m    600\u001b[0m \u001b[38;5;28;01mwith\u001b[39;00m torch\u001b[38;5;241m.\u001b[39mno_grad():\n\u001b[0;32m--> 601\u001b[0m     param_applied \u001b[38;5;241m=\u001b[39m \u001b[43mfn\u001b[49m\u001b[43m(\u001b[49m\u001b[43mparam\u001b[49m\u001b[43m)\u001b[49m\n\u001b[1;32m    602\u001b[0m should_use_set_data \u001b[38;5;241m=\u001b[39m compute_should_use_set_data(param, param_applied)\n\u001b[1;32m    603\u001b[0m \u001b[38;5;28;01mif\u001b[39;00m should_use_set_data:\n",
      "File \u001b[0;32m/opt/conda/envs/ffcv/lib/python3.9/site-packages/torch/nn/modules/module.py:688\u001b[0m, in \u001b[0;36mModule.cuda.<locals>.<lambda>\u001b[0;34m(t)\u001b[0m\n\u001b[1;32m    671\u001b[0m \u001b[38;5;28;01mdef\u001b[39;00m \u001b[38;5;21mcuda\u001b[39m(\u001b[38;5;28mself\u001b[39m: T, device: Optional[Union[\u001b[38;5;28mint\u001b[39m, device]] \u001b[38;5;241m=\u001b[39m \u001b[38;5;28;01mNone\u001b[39;00m) \u001b[38;5;241m-\u001b[39m\u001b[38;5;241m>\u001b[39m T:\n\u001b[1;32m    672\u001b[0m     \u001b[38;5;124mr\u001b[39m\u001b[38;5;124;03m\"\"\"Moves all model parameters and buffers to the GPU.\u001b[39;00m\n\u001b[1;32m    673\u001b[0m \n\u001b[1;32m    674\u001b[0m \u001b[38;5;124;03m    This also makes associated parameters and buffers different objects. So\u001b[39;00m\n\u001b[0;32m   (...)\u001b[0m\n\u001b[1;32m    686\u001b[0m \u001b[38;5;124;03m        Module: self\u001b[39;00m\n\u001b[1;32m    687\u001b[0m \u001b[38;5;124;03m    \"\"\"\u001b[39;00m\n\u001b[0;32m--> 688\u001b[0m     \u001b[38;5;28;01mreturn\u001b[39;00m \u001b[38;5;28mself\u001b[39m\u001b[38;5;241m.\u001b[39m_apply(\u001b[38;5;28;01mlambda\u001b[39;00m t: \u001b[43mt\u001b[49m\u001b[38;5;241;43m.\u001b[39;49m\u001b[43mcuda\u001b[49m\u001b[43m(\u001b[49m\u001b[43mdevice\u001b[49m\u001b[43m)\u001b[49m)\n",
      "\u001b[0;31mKeyboardInterrupt\u001b[0m: "
     ]
    }
   ],
   "source": [
    "# for layers in range(1, 51):\n",
    "for layers in [10]:\n",
    "\n",
    "    v1, v2 = 1, 2\n",
    "    h = 128\n",
    "\n",
    "    model0 = NormMLP(h=h, layers=layers).cuda()\n",
    "    model1 = NormMLP(h=h, layers=layers).cuda()\n",
    "    load_model(model0, 'mlp_e50_l%d_h%d_v%d' % (layers, h, v1))\n",
    "    load_model(model1, 'mlp_e50_l%d_h%d_v%d'% (layers, h, v2))\n",
    "#     print(evaluate(model0), evaluate(model1))\n",
    "\n",
    "    class Subnet(nn.Module):\n",
    "        def __init__(self, model, layer_i):\n",
    "            super().__init__()\n",
    "            self.model = model\n",
    "            self.layer_i = layer_i\n",
    "        def forward(self, x):\n",
    "            if x.size(1) == 3:\n",
    "                x = x.mean(1, keepdim=True)\n",
    "            x = x.reshape(x.size(0), -1)\n",
    "            x = F.relu(self.model.bn1(self.model.fc1(x)))\n",
    "            x = self.model.layers[:3*self.layer_i](x)\n",
    "            return x\n",
    "\n",
    "    perm_map = get_layer_perm(Subnet(model0, layer_i=0), Subnet(model1, layer_i=0))\n",
    "    fc = model1.fc1\n",
    "    w_list = [fc.weight]\n",
    "    bn = model1.bn1\n",
    "    w_list.extend([bn.weight,\n",
    "                    bn.bias,\n",
    "                    bn.running_mean,\n",
    "                    bn.running_var])\n",
    "    for w in w_list:\n",
    "        w.data = w[perm_map]\n",
    "    for w in [model1.layers[0].weight]:\n",
    "        w.data = w.data[:, perm_map]\n",
    "\n",
    "    ########\n",
    "\n",
    "    for i in range(layers):\n",
    "        perm_map = get_layer_perm(Subnet(model0, layer_i=i+1), Subnet(model1, layer_i=i+1))\n",
    "        fc = model1.layers[3*i]\n",
    "        w_list = [fc.weight]\n",
    "        bn = model1.layers[3*i+1]\n",
    "        w_list.extend([bn.weight,\n",
    "                        bn.bias,\n",
    "                        bn.running_mean,\n",
    "                        bn.running_var])\n",
    "        for w in w_list:\n",
    "            w.data = w[perm_map]\n",
    "        if i < layers-1:\n",
    "            for w in [model1.layers[3*(i+1)].weight]:\n",
    "                w.data = w[:, perm_map]\n",
    "    w = model1.fc2.weight\n",
    "    w.data = w[:, perm_map]\n",
    "\n",
    "    save_model(model1, 'mlp_e50_l%d_h%d_v%d_perm%d' % (layers, h, v2, v1))"
   ]
  },
  {
   "cell_type": "code",
   "execution_count": 14,
   "id": "ee036858",
   "metadata": {},
   "outputs": [],
   "source": [
    "# h = 128\n",
    "# v1, v2 = 1, 2\n",
    "\n",
    "# for layers in tqdm(range(1, 51)):\n",
    "#     pre = 'mlp_e50_l%d_h%d' % (layers, h)\n",
    "\n",
    "#     model0 = NormMLP(h, layers).cuda()\n",
    "#     model1 = NormMLP(h, layers).cuda()\n",
    "#     load_model(model0, '%s_v%d' % (pre, v1))\n",
    "#     load_model(model1, '%s_v%d_perm%d' % (pre, v2, v1))\n",
    "\n",
    "#     model0 = fuse_net(model0)\n",
    "#     save_model(model0, '%s_v%d_fused' % (pre, v1))\n",
    "#     model1 = fuse_net(model1)\n",
    "#     save_model(model1, '%s_v%d_perm%d_fused' % (pre, v2, v1))"
   ]
  },
  {
   "cell_type": "code",
   "execution_count": 15,
   "id": "c90711a9",
   "metadata": {},
   "outputs": [],
   "source": [
    "# for layers in tqdm(range(1, 51)):\n",
    "#     pre = 'mlp_e50_l%d_h%d' % (layers, h)\n",
    "#     k2 = '%s_v%d' % (pre, v2)\n",
    "#     model1 = NormMLP(h, layers)\n",
    "#     load_model(model1, k2)\n",
    "#     model1 = fuse_net(model1)\n",
    "#     save_model(model1, k2+'_fused')"
   ]
  },
  {
   "cell_type": "markdown",
   "id": "bc494077",
   "metadata": {},
   "source": [
    "## Evaluate the interpolated network"
   ]
  },
  {
   "cell_type": "code",
   "execution_count": 18,
   "id": "1a7ae6a7",
   "metadata": {},
   "outputs": [],
   "source": [
    "def mix_weights(model, alpha, key0, key1, premodel=None):\n",
    "    sd0 = torch.load('mlps3/%s.pt' % key0)\n",
    "    sd1 = torch.load('mlps3/%s.pt' % key1)\n",
    "    sd_alpha = {k: (1 - alpha) * sd0[k].cuda() + alpha * sd1[k].cuda()\n",
    "                for k in sd0.keys()}\n",
    "    model.load_state_dict(sd_alpha)\n",
    "\n",
    "# use the train loader with data augmentation as this gives better results\n",
    "def reset_bn_stats(model, epochs=2, loader=train_loader):\n",
    "    # resetting stats to baseline first as below is necessary for stability\n",
    "    for m in model.modules():\n",
    "        if isinstance(m, nn.modules.batchnorm._BatchNorm):\n",
    "            m.momentum = None # use simple average\n",
    "            m.reset_running_stats()\n",
    "    # run a single train epoch with augmentations to recalc stats\n",
    "    model.train()\n",
    "    for _ in range(epochs):\n",
    "        with torch.no_grad(), autocast():\n",
    "            for images, _ in loader:\n",
    "                output = model(images.cuda())\n",
    "    model.eval()"
   ]
  },
  {
   "cell_type": "code",
   "execution_count": 19,
   "id": "edecba31",
   "metadata": {},
   "outputs": [
    {
     "name": "stdout",
     "output_type": "stream",
     "text": [
      "(α=0.0) (100.0, 0.00011900452785387946, 98.29, 0.08788808435201645)\n",
      "(α=1.0) (100.0, 0.00011220618301498083, 98.21, 0.09164906963706017)\n",
      "(α=0.5 permuted) (80.55666666666667, 0.6879887024561564, 80.69, 0.6824256539344787)\n",
      "(α=0.5 permuted corrected) (95.86166666666666, 0.20888673563798268, 95.49, 0.23867447972297667)\n"
     ]
    }
   ],
   "source": [
    "layers = 10\n",
    "h = 128\n",
    "pre = 'mlp_e50_l%d_h%d' % (layers, h)\n",
    "v1, v2 = 1, 2\n",
    "k1 = '%s_v%d' % (pre, v1)\n",
    "k2 = '%s_v%d_perm%d' % (pre, v2, v1)\n",
    "\n",
    "model0 = NormMLP(h, layers).cuda()\n",
    "model1 = NormMLP(h, layers).cuda()\n",
    "load_model(model0, k1)\n",
    "load_model(model1, k2)\n",
    "print('(α=0.0)', full_eval(model0))\n",
    "print('(α=1.0)', full_eval(model1))\n",
    "\n",
    "model_a = NormMLP(h, layers).cuda()\n",
    "mix_weights(model_a, 0.5, k1, k2)\n",
    "print('(α=0.5 permuted)', full_eval(model_a))\n",
    "\n",
    "reset_bn_stats(model_a)\n",
    "print('(α=0.5 permuted corrected)', full_eval(model_a))"
   ]
  },
  {
   "cell_type": "code",
   "execution_count": 754,
   "id": "39ee0887",
   "metadata": {},
   "outputs": [],
   "source": [
    "class ResetLayer(nn.Module):\n",
    "    def __init__(self, layer):\n",
    "        super().__init__()\n",
    "        self.layer = layer\n",
    "        self.bn = nn.BatchNorm1d(len(layer.weight))\n",
    "        self.rescale = False\n",
    "        \n",
    "    def set_stats(self, goal_mean, goal_var):\n",
    "        self.bn.bias.data = goal_mean\n",
    "        goal_std = (goal_var + 1e-7).sqrt()\n",
    "        self.bn.weight.data = goal_std\n",
    "        \n",
    "    def forward(self, x):\n",
    "        x = self.layer(x)\n",
    "        x1 = self.bn(x)\n",
    "        return x1 if self.rescale else x\n",
    "    \n",
    "def fuse_reset(layer):\n",
    "    return fuse_fc_bn(layer.layer, layer.bn)\n",
    "\n",
    "def make_tracked_net(net):\n",
    "    net1 = MLP(layers=len(net.layers)//2, h=net.fc1.out_features)\n",
    "    net1.load_state_dict(net.state_dict())\n",
    "    net1.fc1 = ResetLayer(net1.fc1)\n",
    "    for i, layer in enumerate(net.layers):\n",
    "        if isinstance(layer, nn.Linear):\n",
    "            net1.layers[i] = ResetLayer(layer)\n",
    "#     net1.fc2 = ResetLayer(net1.fc2)\n",
    "    return net1.cuda().eval()\n",
    "\n",
    "def fuse_tracked_net(net):\n",
    "    net1 = MLP(layers=len(net.layers)//2, h=net.fc1.layer.out_features)\n",
    "    net1.fc1 = fuse_reset(net.fc1)\n",
    "    for i, layer in enumerate(net.layers):\n",
    "        if isinstance(layer, ResetLayer):\n",
    "            net1.layers[i] = fuse_reset(layer)\n",
    "    net1.fc2.load_state_dict(net.fc2.state_dict())\n",
    "    return net1.cuda().eval()\n",
    "\n",
    "def forward_pass_correction(wrap_a, model0, model1, alpha=0.5):\n",
    "    ## calculate the statistics of every hidden unit in the endpoint networks\n",
    "    ## this is done practically using PyTorch BatchNorm2d layers.\n",
    "    wrap0 = make_tracked_net(model0)\n",
    "    wrap1 = make_tracked_net(model1)\n",
    "    reset_bn_stats(wrap0)\n",
    "    reset_bn_stats(wrap1)\n",
    "    \n",
    "    ## set the goal mean/std in added bns of interpolated network, and turn batch renormalization on\n",
    "    for m_a, m0, m1 in zip(wrap_a.modules(), wrap0.modules(), wrap1.modules()):\n",
    "        if not isinstance(m0, ResetLayer):\n",
    "            continue\n",
    "        # get goal statistics -- interpolate the mean and std of parent networks\n",
    "        mu0 = m0.bn.running_mean\n",
    "        mu1 = m1.bn.running_mean\n",
    "        goal_mean = (1 - alpha) * mu0 + alpha * mu1\n",
    "        var0 = m0.bn.running_var\n",
    "        var1 = m1.bn.running_var\n",
    "        goal_var = ((1 - alpha) * var0.sqrt() + alpha * var1.sqrt()).square()\n",
    "        # set these in the interpolated bn controller\n",
    "        m_a.set_stats(goal_mean, goal_var)\n",
    "        # turn rescaling on\n",
    "        m_a.rescale = True\n",
    "    reset_bn_stats(wrap_a, epochs=3)"
   ]
  },
  {
   "cell_type": "code",
   "execution_count": 755,
   "id": "cbe9a4e9",
   "metadata": {
    "scrolled": true
   },
   "outputs": [
    {
     "name": "stdout",
     "output_type": "stream",
     "text": [
      "(α=0.0) (99.85333333333334, 0.005897032228919367, 97.76, 0.12175396233797073)\n",
      "(α=1.0) (99.83, 0.007358756094860534, 97.78, 0.11046934127807617)\n",
      "(α=0.5 permuted) (9.915000000000001, 3.1354936599731444, 10.09, 3.125978183746338)\n",
      "(α=0.5 permuted+corrected) (87.49666666666667, 0.82353861729304, 86.92999999999999, 0.8572109460830688)\n"
     ]
    }
   ],
   "source": [
    "layers = 35\n",
    "h = 128\n",
    "pre = 'mlp_e50_l%d_h%d' % (layers, h)\n",
    "v1, v2 = 1, 2\n",
    "k1 = '%s_v%d_fused' % (pre, v1)\n",
    "k2 = '%s_v%d_perm%d_fused' % (pre, v2, v1)\n",
    "\n",
    "model0 = MLP(h, layers).cuda()\n",
    "model1 = MLP(h, layers).cuda()\n",
    "load_model(model0, k1)\n",
    "load_model(model1, k2)\n",
    "print('(α=0.0)', full_eval(model0))\n",
    "print('(α=1.0)', full_eval(model1))\n",
    "\n",
    "model_a = MLP(h, layers).cuda()\n",
    "mix_weights(model_a, 0.5, k1, k2)\n",
    "print('(α=0.5 permuted)', full_eval(model_a))\n",
    "\n",
    "## calculate the statistics of every hidden unit in the endpoint networks\n",
    "## this is done practically using PyTorch BatchNorm layers.\n",
    "wrap_a = make_tracked_net(model_a)\n",
    "forward_pass_correction(wrap_a, model0, model1, 0.5)\n",
    "print('(α=0.5 permuted+corrected)', full_eval(wrap_a))"
   ]
  },
  {
   "cell_type": "code",
   "execution_count": 457,
   "id": "bf9fc51d",
   "metadata": {},
   "outputs": [
    {
     "data": {
      "image/png": "[encoded data removed]",
      "text/plain": [
       "<Figure size 432x288 with 1 Axes>"
      ]
     },
     "metadata": {
      "needs_background": "light"
     },
     "output_type": "display_data"
    }
   ],
   "source": [
    "layers = 45\n",
    "h = 128\n",
    "pre = 'mlp_e50_l%d_h%d' % (layers, h)\n",
    "v1, v2 = 1, 2\n",
    "k1 = '%s_v%d_fused' % (pre, v1)\n",
    "k2 = '%s_v%d_perm%d_fused' % (pre, v2, v1)\n",
    "\n",
    "model0 = MLP(h, layers).cuda()\n",
    "model1 = MLP(h, layers).cuda()\n",
    "load_model(model0, k1)\n",
    "load_model(model1, k2)\n",
    "\n",
    "model_a = MLP(h, layers).cuda()\n",
    "mix_weights(model_a, 0.5, k1, '%s_v%d_fused' % (pre, v2))\n",
    "wrap_b = make_tracked_net(model_a)\n",
    "reset_bn_stats(wrap_b)\n",
    "\n",
    "model_a = MLP(h, layers).cuda()\n",
    "mix_weights(model_a, 0.5, k1, k2)\n",
    "wrap_c = make_tracked_net(model_a)\n",
    "reset_bn_stats(wrap_c)\n",
    "\n",
    "model_a = MLP(h, layers).cuda()\n",
    "mix_weights(model_a, 0.5, k1, k2)\n",
    "wrap_a = make_tracked_net(model_a)\n",
    "forward_pass_correction(wrap_a, model0, model1)\n",
    "wrap_d = make_tracked_net(fuse_tracked_net(wrap_a))\n",
    "reset_bn_stats(wrap_d)\n",
    "\n",
    "wrap0 = make_tracked_net(model0)\n",
    "wrap1 = make_tracked_net(model1)\n",
    "reset_bn_stats(wrap0)\n",
    "reset_bn_stats(wrap1)\n",
    "\n",
    "\n",
    "def get_layerwise_var(wrap):\n",
    "    vv = []\n",
    "    for ii in range(len(wrap.layers)//2):\n",
    "        vv.append(wrap.layers[2*ii].bn.running_var.mean().item())\n",
    "    return vv\n",
    "vv0 = get_layerwise_var(wrap0)\n",
    "vv1 = get_layerwise_var(wrap1)\n",
    "vvb = get_layerwise_var(wrap_b)\n",
    "vvc = get_layerwise_var(wrap_c)\n",
    "vvd = get_layerwise_var(wrap_d)\n",
    "vv01 = (np.array(vv0) + np.array(vv1))/2\n",
    "\n",
    "rrb = np.array(vvb) / vv01\n",
    "rrc = np.array(vvc) / vv01\n",
    "rrd = np.array(vvd) / vv01\n",
    "\n",
    "# plt.plot(rrb)\n",
    "# plt.plot(rrc)\n",
    "# plt.plot(rrd)\n",
    "\n",
    "plt.plot(vv01)\n",
    "plt.plot(vvb)\n",
    "plt.plot(vvc)\n",
    "plt.plot(vvd)\n",
    "\n",
    "# plt.yscale('log')\n",
    "plt.ylim([1e-7, 1.1])\n",
    "plt.show()"
   ]
  },
  {
   "cell_type": "code",
   "execution_count": 451,
   "id": "6bded80d",
   "metadata": {},
   "outputs": [],
   "source": [
    "obj = {\n",
    "    'v1': vv0,\n",
    "    'v2': vv1,\n",
    "    'vanilla': vvb,\n",
    "    'permuted': vvc,\n",
    "    'permuted_renorm': vvd,\n",
    "}"
   ]
  },
  {
   "cell_type": "code",
   "execution_count": 452,
   "id": "6d042ee0",
   "metadata": {},
   "outputs": [],
   "source": [
    "torch.save(obj, 'layerwise_var_%s.pt' % pre)"
   ]
  },
  {
   "cell_type": "markdown",
   "id": "f28992f8",
   "metadata": {},
   "source": [
    "## Closed-Form"
   ]
  },
  {
   "cell_type": "code",
   "execution_count": 782,
   "id": "ea7e2bc3",
   "metadata": {},
   "outputs": [],
   "source": [
    "def run_stats(net0, net1, loader=train_loader):\n",
    "    with torch.no_grad():\n",
    "        net0.eval()\n",
    "        net1.eval()\n",
    "        \n",
    "        mean0_l = []\n",
    "        mean1_l = []\n",
    "        var0_l = []\n",
    "        var1_l = []\n",
    "        cov_l = []\n",
    "        for images, _ in loader:\n",
    "            img_t = images.float().cuda()\n",
    "            out0 = net0(img_t)\n",
    "            out0 = out0.reshape(out0.shape[0], out0.shape[1], -1).permute(0, 2, 1)\n",
    "            out0 = out0.reshape(-1, out0.shape[2]).double()\n",
    "\n",
    "            out1 = net1(img_t)\n",
    "            out1 = out1.reshape(out1.shape[0], out1.shape[1], -1).permute(0, 2, 1)\n",
    "            out1 = out1.reshape(-1, out1.shape[2]).double()\n",
    "\n",
    "            mean0 = out0.mean(0)\n",
    "            mean1 = out1.mean(0)\n",
    "            var0 = out0.var(0)\n",
    "            var1 = out1.var(0)\n",
    "            cov = ((out0 - mean0) * (out1 - mean1)).mean(0)\n",
    "            \n",
    "            mean0_l.append(mean0)\n",
    "            mean1_l.append(mean1)\n",
    "            var0_l.append(var0)\n",
    "            var1_l.append(var1)\n",
    "            cov_l.append(cov)\n",
    "            \n",
    "        mean0 = torch.stack(mean0_l).mean(0)\n",
    "        mean1 = torch.stack(mean1_l).mean(0)\n",
    "        var0 = torch.stack(var0_l).mean(0)\n",
    "        var1 = torch.stack(var1_l).mean(0)\n",
    "        cov = torch.stack(cov_l).mean(0)\n",
    "\n",
    "    return mean0.float(), mean1.float(), var0.float(), var1.float(), cov.float()\n",
    "\n",
    "class Subnet(nn.Module):\n",
    "    def __init__(self, model, k):\n",
    "        super().__init__()\n",
    "        self.fc1 = model.fc1\n",
    "        self.layers = model.layers[:2*k-1] if k > 0 else None\n",
    "    def forward(self, x):\n",
    "        if x.size(1) == 3:\n",
    "            x = x.mean(1, keepdim=True)\n",
    "        x = x.reshape(x.size(0), -1)\n",
    "        x = self.fc1(x)\n",
    "        if self.layers:\n",
    "            x = F.relu(x)\n",
    "            x = self.layers(x)\n",
    "        return x\n",
    "\n",
    "def closed_form_correction(wrap_a, model0, model1, alpha=0.5):\n",
    "    for i in range(0, layers+1):\n",
    "        mean0, mean1, var0, var1, cov = run_stats(Subnet(model0, i), Subnet(model1, i))\n",
    "        inter_mean = (1 - alpha)*mean0 + alpha*mean1\n",
    "        inter_var = (1 - alpha)**2*var0 + 2*alpha*(1 - alpha) * cov + alpha**2*var1\n",
    "        goal_mean = inter_mean\n",
    "        goal_var = ((1 - alpha)*var0.sqrt() + alpha*var1.sqrt()).square()\n",
    "\n",
    "        if i == 0:\n",
    "            reset = wrap_a.fc1\n",
    "        else:\n",
    "            reset = wrap_a.layers[2*(i-1)]\n",
    "        reset.bn.running_mean.data = inter_mean.float()\n",
    "        reset.bn.running_var.data = inter_var.float()\n",
    "        reset.set_stats(goal_mean.float(), goal_var.float())\n",
    "        reset.rescale = True"
   ]
  },
  {
   "cell_type": "code",
   "execution_count": 757,
   "id": "26fc1b84",
   "metadata": {},
   "outputs": [
    {
     "name": "stdout",
     "output_type": "stream",
     "text": [
      "(α=0.0) (100.0, 0.00011900206397209937, 98.28, 0.08788619413971901)\n",
      "(α=1.0) (100.0, 0.00011223381782959526, 98.21, 0.09160843640565872)\n",
      "(α=0.5 permuted) (81.26, 0.6684819360574087, 81.17999999999999, 0.6651139259338379)\n",
      "(α=0.5 permuted corrected) (95.81, 0.21187422821919125, 95.46, 0.24068381786346435)\n",
      "(α=0.5 permuted corrected by formula) (95.32333333333334, 0.2501784438888232, 94.83, 0.2895711809396744)\n"
     ]
    }
   ],
   "source": [
    "layers = 10\n",
    "h = 128\n",
    "pre = 'mlp_e50_l%d_h%d' % (layers, h)\n",
    "v1, v2 = 1, 2\n",
    "k1 = '%s_v%d_fused' % (pre, v1)\n",
    "k2 = '%s_v%d_perm%d_fused' % (pre, v2, v1)\n",
    "\n",
    "model0 = MLP(h, layers).cuda()\n",
    "model1 = MLP(h, layers).cuda()\n",
    "load_model(model0, k1)\n",
    "load_model(model1, k2)\n",
    "print('(α=0.0)', full_eval(model0))\n",
    "print('(α=1.0)', full_eval(model1))\n",
    "\n",
    "model_a = MLP(h, layers).cuda()\n",
    "mix_weights(model_a, 0.5, k1, k2)\n",
    "print('(α=0.5 permuted)', full_eval(model_a))\n",
    "\n",
    "wrap_a = make_tracked_net(model_a)\n",
    "forward_pass_correction(wrap_a, model0, model1)\n",
    "print('(α=0.5 permuted corrected)', full_eval(wrap_a))\n",
    "\n",
    "wrap_b = make_tracked_net(model_a)\n",
    "closed_form_correction(wrap_b, model0, model1)\n",
    "print('(α=0.5 permuted corrected by formula)', full_eval(wrap_b))"
   ]
  },
  {
   "cell_type": "code",
   "execution_count": 786,
   "id": "13334ee5",
   "metadata": {
    "scrolled": true
   },
   "outputs": [
    {
     "name": "stdout",
     "output_type": "stream",
     "text": [
      "(α=0.5 permuted corrected) (95.80499999999999, 0.2118744303782781, 95.46, 0.2407013386487961)\n"
     ]
    }
   ],
   "source": [
    "layers = 10\n",
    "h = 128\n",
    "pre = 'mlp_e50_l%d_h%d' % (layers, h)\n",
    "v1, v2 = 1, 2\n",
    "k1 = '%s_v%d_fused' % (pre, v1)\n",
    "k2 = '%s_v%d_perm%d_fused' % (pre, v2, v1)\n",
    "\n",
    "model0 = MLP(h, layers).cuda()\n",
    "model1 = MLP(h, layers).cuda()\n",
    "load_model(model0, k1)\n",
    "load_model(model1, k2)\n",
    "\n",
    "model_a = MLP(h, layers).cuda()\n",
    "mix_weights(model_a, 0.5, k1, k2)\n",
    "wrap_a = make_tracked_net(model_a)\n",
    "forward_pass_correction(wrap_a, model0, model1)\n",
    "print('(α=0.5 permuted corrected)', full_eval(wrap_a))\n",
    "vv1 = wrap_a.fc1.bn.running_var\n",
    "# vv1 = wrap_a.layers[0].bn.running_var"
   ]
  },
  {
   "cell_type": "code",
   "execution_count": 787,
   "id": "95e4e16b",
   "metadata": {},
   "outputs": [],
   "source": [
    "wrap_b = make_tracked_net(model_a)\n",
    "closed_form_correction(wrap_b, model0, model1)\n",
    "vv2 = wrap_b.fc1.bn.running_var\n",
    "# vv2 = wrap_b.layers[0].bn.running_var"
   ]
  },
  {
   "cell_type": "code",
   "execution_count": 788,
   "id": "d9848541",
   "metadata": {},
   "outputs": [
    {
     "data": {
      "image/png": "[encoded data removed]",
      "text/plain": [
       "<Figure size 432x288 with 1 Axes>"
      ]
     },
     "metadata": {
      "needs_background": "light"
     },
     "output_type": "display_data"
    }
   ],
   "source": [
    "plt.plot(vv1.tolist())\n",
    "plt.plot(vv2.tolist())\n",
    "plt.show()"
   ]
  },
  {
   "cell_type": "code",
   "execution_count": null,
   "id": "d9eaa336",
   "metadata": {},
   "outputs": [],
   "source": []
  },
  {
   "cell_type": "code",
   "execution_count": 857,
   "id": "ba3e4dc6",
   "metadata": {},
   "outputs": [],
   "source": [
    "def run_stats(net0, net1, loader=train_loader):\n",
    "    with torch.no_grad():\n",
    "        net0.eval()\n",
    "        net1.eval()\n",
    "        \n",
    "        mean0_l = []\n",
    "        mean1_l = []\n",
    "        var0_l = []\n",
    "        var1_l = []\n",
    "        cov_l = []\n",
    "        for images, _ in loader:\n",
    "            img_t = images.float().cuda()\n",
    "            out0 = net0(img_t)\n",
    "            out0 = out0.reshape(out0.shape[0], out0.shape[1], -1).permute(0, 2, 1)\n",
    "            out0 = out0.reshape(-1, out0.shape[2]).double()\n",
    "\n",
    "            out1 = net1(img_t)\n",
    "            out1 = out1.reshape(out1.shape[0], out1.shape[1], -1).permute(0, 2, 1)\n",
    "            out1 = out1.reshape(-1, out1.shape[2]).double()\n",
    "\n",
    "            mean0 = out0.mean(0)\n",
    "            mean1 = out1.mean(0)\n",
    "            var0 = out0.var(0)\n",
    "            var1 = out1.var(0)\n",
    "            cov = ((out0 - mean0) * (out1 - mean1)).mean(0)\n",
    "            \n",
    "            mean0_l.append(mean0)\n",
    "            mean1_l.append(mean1)\n",
    "            var0_l.append(var0)\n",
    "            var1_l.append(var1)\n",
    "            cov_l.append(cov)\n",
    "            \n",
    "        mean0 = torch.stack(mean0_l).mean(0)\n",
    "        mean1 = torch.stack(mean1_l).mean(0)\n",
    "        var0 = torch.stack(var0_l).mean(0)\n",
    "        var1 = torch.stack(var1_l).mean(0)\n",
    "        cov = torch.stack(cov_l).mean(0)\n",
    "\n",
    "    return mean0.float(), mean1.float(), var0.float(), var1.float(), cov.float()\n",
    "\n",
    "class Subnet(nn.Module):\n",
    "    def __init__(self, model, k):\n",
    "        super().__init__()\n",
    "        self.fc1 = model.fc1\n",
    "        self.layers = model.layers[:2*k-1] if k > 0 else None\n",
    "    def forward(self, x):\n",
    "        if x.size(1) == 3:\n",
    "            x = x.mean(1, keepdim=True)\n",
    "        x = x.reshape(x.size(0), -1)\n",
    "        x = self.fc1(x)\n",
    "        if self.layers:\n",
    "            x = F.relu(x)\n",
    "            x = self.layers(x)\n",
    "        return x\n",
    "\n",
    "i = 0\n",
    "alpha = 0.5\n",
    "\n",
    "mean0, mean1, var0, var1, cov = run_stats(Subnet(model0, i), Subnet(model1, i))\n",
    "\n",
    "inter_mean = (1 - alpha) * mean0 + alpha * mean1\n",
    "inter_var = (1 - alpha)**2 * var0 + 2 * alpha * (1 - alpha) * cov + alpha**2 * var1\n",
    "goal_mean = inter_mean\n",
    "goal_var = ((1 - alpha) * var0.sqrt() + alpha * var1.sqrt()).square()"
   ]
  },
  {
   "cell_type": "code",
   "execution_count": 852,
   "id": "0856b29c",
   "metadata": {},
   "outputs": [],
   "source": [
    "import scipy.stats"
   ]
  },
  {
   "cell_type": "code",
   "execution_count": 859,
   "id": "6cb989d9",
   "metadata": {},
   "outputs": [],
   "source": [
    "vv1 = wrap_a.fc1.bn.running_var.data\n",
    "vv2 = inter_var"
   ]
  },
  {
   "cell_type": "code",
   "execution_count": 860,
   "id": "0c669d4e",
   "metadata": {
    "scrolled": true
   },
   "outputs": [
    {
     "data": {
      "image/png": "[encoded data removed]",
      "text/plain": [
       "<Figure size 432x288 with 1 Axes>"
      ]
     },
     "metadata": {
      "needs_background": "light"
     },
     "output_type": "display_data"
    }
   ],
   "source": [
    "plt.plot(vv1.tolist())\n",
    "plt.plot(vv2.tolist())\n",
    "plt.show()"
   ]
  },
  {
   "cell_type": "code",
   "execution_count": null,
   "id": "f68805c7",
   "metadata": {},
   "outputs": [],
   "source": []
  },
  {
   "cell_type": "code",
   "execution_count": null,
   "id": "14656464",
   "metadata": {},
   "outputs": [],
   "source": []
  },
  {
   "cell_type": "code",
   "execution_count": null,
   "id": "84449c8d",
   "metadata": {},
   "outputs": [],
   "source": []
  },
  {
   "cell_type": "code",
   "execution_count": null,
   "id": "46af0892",
   "metadata": {},
   "outputs": [],
   "source": []
  },
  {
   "cell_type": "markdown",
   "id": "e8221fe3",
   "metadata": {},
   "source": [
    "## Industrial eval"
   ]
  },
  {
   "cell_type": "code",
   "execution_count": 510,
   "id": "a392763e",
   "metadata": {},
   "outputs": [
    {
     "name": "stderr",
     "output_type": "stream",
     "text": [
      "100%|███████████████████████████████████████████████████████████████████████████████████████████████████████████████████████████████████████████████████████████████████| 5/5 [00:31<00:00,  6.35s/it]\n"
     ]
    }
   ],
   "source": [
    "stats = {}\n",
    "for layers in tqdm(range(15, 20)):\n",
    "    h = 128\n",
    "    pre = 'mlp_e50_l%d_h%d' % (layers, h)\n",
    "    v1, v2 = 1, 2\n",
    "    s = {}\n",
    "\n",
    "    model0 = MLP(h=h, layers=layers).cuda()\n",
    "    model1 = MLP(h=h, layers=layers).cuda()\n",
    "    model_a = MLP(h=h, layers=layers).cuda()\n",
    "    load_model(model0, '%s_v%d_fused' % (pre, v1))\n",
    "    load_model(model1, '%s_v%d_perm%d_fused' % (pre, v2, v1))\n",
    "    s['v1'] = full_eval(model0)\n",
    "    s['v2'] = full_eval(model1)\n",
    "    \n",
    "    mix_weights(model_a, 0.5, '%s_v%d_fused' % (pre, v1), '%s_v%d_fused' % (pre, v2))\n",
    "    s['vanilla'] = full_eval(model_a)\n",
    "    \n",
    "    mix_weights(model_a, 0.5, '%s_v%d_fused' % (pre, v1), '%s_v%d_perm%d_fused' % (pre, v2, v1))\n",
    "    s['permute'] = full_eval(model_a)\n",
    "    \n",
    "    wrap_a = make_tracked_net(model_a)\n",
    "    forward_pass_correction(wrap_a, model0, model1, 0.5)\n",
    "    s['permute_correct'] = full_eval(wrap_a)\n",
    "    \n",
    "    wrap_a = make_tracked_net(model_a)\n",
    "    closed_form_correction(wrap_a, model0, model1, 0.5)\n",
    "    s['permute_correct_formula'] = full_eval(wrap_a)\n",
    "    \n",
    "    stats[pre] = s"
   ]
  },
  {
   "cell_type": "code",
   "execution_count": 511,
   "id": "64caed88",
   "metadata": {},
   "outputs": [
    {
     "data": {
      "image/png": "[encoded data removed]",
      "text/plain": [
       "<Figure size 576x360 with 1 Axes>"
      ]
     },
     "metadata": {
      "needs_background": "light"
     },
     "output_type": "display_data"
    }
   ],
   "source": [
    "plt.rcParams[\"font.family\"] = \"arial\"\n",
    "plt.rcParams[\"font.size\"] = \"13\"\n",
    "plt.figure(figsize=(8, 5))\n",
    "\n",
    "ii = 2\n",
    "yy0a = [s['v1'][ii] for s in stats.values()]\n",
    "yy0b = [s['v2'][ii] for s in stats.values()]\n",
    "yy0 = (np.array(yy0a) + np.array(yy0b)) / 2\n",
    "yy1 = [s['permute'][ii] for s in stats.values()]\n",
    "yy2 = [s['permute_correct'][ii] for s in stats.values()]\n",
    "yy3 = [s['permute_correct_formula'][ii] for s in stats.values()]\n",
    "plt.plot(yy0, label='accuracy of endpoints')\n",
    "plt.plot(yy1, label='acc of permutation-only midpoint')\n",
    "plt.plot(yy2, label='acc of permutation+correction midpoint')\n",
    "plt.plot(yy3, label='acc of permutation+correction (closed-form) midpoint')\n",
    "plt.ylim([0, 100])\n",
    "# plt.ylim([90, 100])\n",
    "plt.xlabel('MLP depth')\n",
    "plt.title('MLP on MNIST (trained with BN then fused)')\n",
    "plt.legend()\n",
    "plt.show()"
   ]
  },
  {
   "cell_type": "code",
   "execution_count": 507,
   "id": "cdebfe55",
   "metadata": {},
   "outputs": [],
   "source": [
    "# torch.save(stats, 'mlp_barriers_layers1to50.pt')"
   ]
  },
  {
   "cell_type": "code",
   "execution_count": null,
   "id": "aeb2a70e",
   "metadata": {},
   "outputs": [],
   "source": []
  },
  {
   "cell_type": "code",
   "execution_count": null,
   "id": "62afff45",
   "metadata": {},
   "outputs": [],
   "source": []
  }
 ],
 "metadata": {
  "kernelspec": {
   "display_name": "Python 3 (ipykernel)",
   "language": "python",
   "name": "python3"
  },
  "language_info": {
   "codemirror_mode": {
    "name": "ipython",
    "version": 3
   },
   "file_extension": ".py",
   "mimetype": "text/x-python",
   "name": "python",
   "nbconvert_exporter": "python",
   "pygments_lexer": "ipython3",
   "version": "3.9.12"
  }
 },
 "nbformat": 4,
 "nbformat_minor": 5
}
