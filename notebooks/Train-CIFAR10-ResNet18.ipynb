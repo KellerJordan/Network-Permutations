{
 "cells": [
  {
   "cell_type": "code",
   "execution_count": 1,
   "id": "891da36b",
   "metadata": {},
   "outputs": [],
   "source": [
    "import os\n",
    "import sys"
   ]
  },
  {
   "cell_type": "code",
   "execution_count": 2,
   "id": "c0db779d",
   "metadata": {},
   "outputs": [],
   "source": [
    "from tqdm import tqdm\n",
    "import numpy as np\n",
    "import matplotlib.pyplot as plt\n",
    "\n",
    "import torch\n",
    "from torch.cuda.amp import GradScaler, autocast\n",
    "from torch.nn import CrossEntropyLoss\n",
    "from torch.optim import SGD, lr_scheduler\n",
    "import torchvision\n",
    "import torchvision.transforms as T"
   ]
  },
  {
   "cell_type": "code",
   "execution_count": 3,
   "id": "0b90d9c4",
   "metadata": {},
   "outputs": [],
   "source": [
    "BATCH_SIZE = 512"
   ]
  },
  {
   "cell_type": "code",
   "execution_count": 4,
   "id": "a8693a56",
   "metadata": {},
   "outputs": [],
   "source": [
    "from ffcv.fields import IntField, RGBImageField\n",
    "from ffcv.fields.decoders import IntDecoder, SimpleRGBImageDecoder\n",
    "from ffcv.loader import Loader, OrderOption\n",
    "from ffcv.pipeline.operation import Operation\n",
    "from ffcv.transforms import RandomHorizontalFlip, Cutout, \\\n",
    "    RandomTranslate, Convert, ToDevice, ToTensor, ToTorchImage\n",
    "from ffcv.transforms.common import Squeeze\n",
    "\n",
    "# Note that statistics are wrt to uint8 range, [0,255].\n",
    "CIFAR_MEAN = [125.307, 122.961, 113.8575]\n",
    "CIFAR_STD = [51.5865, 50.847, 51.255]\n",
    "\n",
    "loaders = {}\n",
    "for name in ['train', 'test']:\n",
    "    label_pipeline = [IntDecoder(), ToTensor(), ToDevice('cuda:1'), Squeeze()]\n",
    "    image_pipeline = [SimpleRGBImageDecoder()]\n",
    "\n",
    "    # Add image transforms and normalization\n",
    "    if name == 'train':\n",
    "        image_pipeline.extend([\n",
    "            RandomHorizontalFlip(),\n",
    "            RandomTranslate(padding=4),\n",
    "            Cutout(16, tuple(map(int, CIFAR_MEAN))),\n",
    "        ])\n",
    "    image_pipeline.extend([\n",
    "        ToTensor(),\n",
    "        ToDevice('cuda:1', non_blocking=True),\n",
    "        ToTorchImage(),\n",
    "        Convert(torch.float16),\n",
    "        T.Normalize(CIFAR_MEAN, CIFAR_STD),\n",
    "    ])\n",
    "\n",
    "    # Create loaders\n",
    "    order_opt = OrderOption.RANDOM if name == 'train' else OrderOption.SEQUENTIAL\n",
    "    loaders[name] = Loader(f'/tmp/cifar_{name}.beton',\n",
    "                            batch_size=BATCH_SIZE,\n",
    "                            num_workers=8,\n",
    "                            order=order_opt,\n",
    "                            drop_last=(name == 'train'),\n",
    "                            pipelines={'image': image_pipeline,\n",
    "                                       'label': label_pipeline})"
   ]
  },
  {
   "cell_type": "code",
   "execution_count": 5,
   "id": "b7b02059",
   "metadata": {},
   "outputs": [],
   "source": [
    "from torch import nn\n",
    "import torch.nn.functional as F\n",
    "\n",
    "def conv3x3(in_planes, out_planes, stride=1):\n",
    "    return nn.Conv2d(in_planes, out_planes, kernel_size=3, stride=stride, padding=1, bias=False)\n",
    "\n",
    "class BasicBlock(nn.Module):\n",
    "    expansion = 1\n",
    "\n",
    "    def __init__(self, in_planes, planes, stride=1):\n",
    "        super().__init__()\n",
    "        self.conv1 = conv3x3(in_planes, planes, stride)\n",
    "        self.bn1 = nn.BatchNorm2d(planes)\n",
    "        self.conv2 = conv3x3(planes, planes)\n",
    "        self.bn2 = nn.BatchNorm2d(planes)\n",
    "\n",
    "        self.shortcut = nn.Sequential()\n",
    "        if stride != 1 or in_planes != self.expansion*planes:\n",
    "            self.shortcut = nn.Sequential(\n",
    "                nn.Conv2d(in_planes, self.expansion*planes, kernel_size=1, stride=stride, bias=False),\n",
    "                nn.BatchNorm2d(self.expansion*planes)\n",
    "            )\n",
    "\n",
    "    def forward(self, x):\n",
    "        out = F.relu(self.bn1(self.conv1(x)))\n",
    "        out = self.bn2(self.conv2(out))\n",
    "        out += self.shortcut(x)\n",
    "        out = F.relu(out)\n",
    "        return out\n",
    "\n",
    "class ResNet(nn.Module):\n",
    "    def __init__(self, block, num_blocks, num_classes=10):\n",
    "        super().__init__()\n",
    "        self.in_planes = 64\n",
    "\n",
    "        self.conv1 = conv3x3(3,64)\n",
    "        self.bn1 = nn.BatchNorm2d(64)\n",
    "        self.layer1 = self._make_layer(block, 64, num_blocks[0], stride=1)\n",
    "        self.layer2 = self._make_layer(block, 128, num_blocks[1], stride=2)\n",
    "        self.layer3 = self._make_layer(block, 256, num_blocks[2], stride=2)\n",
    "        self.layer4 = self._make_layer(block, 512, num_blocks[3], stride=2)\n",
    "        self.linear = nn.Linear(512*block.expansion, num_classes)\n",
    "\n",
    "    def _make_layer(self, block, planes, num_blocks, stride):\n",
    "        strides = [stride] + [1]*(num_blocks-1)\n",
    "        layers = []\n",
    "        for stride in strides:\n",
    "            layers.append(block(self.in_planes, planes, stride))\n",
    "            self.in_planes = planes * block.expansion\n",
    "        return nn.Sequential(*layers)\n",
    "\n",
    "    def forward(self, x):\n",
    "        out = F.relu(self.bn1(self.conv1(x)))\n",
    "        out = self.layer1(out)\n",
    "        out = self.layer2(out)\n",
    "        out = self.layer3(out)\n",
    "        out = self.layer4(out)\n",
    "        out = F.avg_pool2d(out, 4)\n",
    "        out = out.view(out.size(0), -1)\n",
    "        out = self.linear(out)\n",
    "        return out\n",
    "\n",
    "def ResNet18(num_classes=10):\n",
    "    return ResNet(BasicBlock, [2,2,2,2], num_classes)"
   ]
  },
  {
   "cell_type": "code",
   "execution_count": 6,
   "id": "2cdd4bbe",
   "metadata": {
    "scrolled": false
   },
   "outputs": [
    {
     "name": "stderr",
     "output_type": "stream",
     "text": [
      "  6%|█████████▋                                                                                                                                                        | 3/50 [00:12<03:10,  4.05s/it]\n",
      "\n",
      "KeyboardInterrupt\n",
      "\n"
     ]
    }
   ],
   "source": [
    "model = ResNet18().cuda(1)\n",
    "\n",
    "# lr = 0.5 * BATCH_SIZE/512\n",
    "lr = 0.4\n",
    "\n",
    "EPOCHS = 200\n",
    "\n",
    "ne_iters = 50000 // BATCH_SIZE\n",
    "lr_schedule = np.interp(np.arange(1+EPOCHS*ne_iters),\n",
    "                        [0, 5*ne_iters, EPOCHS*ne_iters],\n",
    "                        [0, 1, 0])\n",
    "optimizer = SGD(model.parameters(), lr=lr, momentum=0.9, weight_decay=5e-4)\n",
    "scheduler = lr_scheduler.LambdaLR(optimizer, lr_schedule.__getitem__)\n",
    "\n",
    "scaler = GradScaler()\n",
    "loss_fn = CrossEntropyLoss(label_smoothing=0.1)\n",
    "\n",
    "losses = []\n",
    "for epoch in tqdm(range(EPOCHS)):\n",
    "    for i, (inputs, labels) in enumerate(loaders['train']):\n",
    "        optimizer.zero_grad(set_to_none=True)\n",
    "        with autocast():\n",
    "            outputs = model(inputs)\n",
    "            loss = loss_fn(outputs, labels)\n",
    "        losses.append(loss.item())\n",
    "            \n",
    "        scaler.scale(loss).backward()\n",
    "        scaler.step(optimizer)\n",
    "        scaler.update()\n",
    "        scheduler.step()"
   ]
  },
  {
   "cell_type": "code",
   "execution_count": 11,
   "id": "b23ae47a",
   "metadata": {},
   "outputs": [
    {
     "name": "stderr",
     "output_type": "stream",
     "text": [
      "100%|████████████████████████████████████████████████████████████████████████████████████████████████████████████████████████████████████████████████████████████████| 20/20 [00:00<00:00, 113.48it/s]\n"
     ]
    },
    {
     "data": {
      "text/plain": [
       "9470"
      ]
     },
     "execution_count": 11,
     "metadata": {},
     "output_type": "execute_result"
    }
   ],
   "source": [
    "def evaluate(model):\n",
    "    model.eval()\n",
    "    correct = 0\n",
    "    with torch.no_grad(), autocast():\n",
    "        for batch in tqdm(loaders['test']):\n",
    "            inputs, labels = batch\n",
    "            outputs = model(inputs.cuda(1))\n",
    "            pred = outputs.argmax(dim=1)\n",
    "            correct += (labels == pred).sum().item()\n",
    "    return correct\n",
    "evaluate(model)"
   ]
  },
  {
   "cell_type": "code",
   "execution_count": 12,
   "id": "416ba338",
   "metadata": {},
   "outputs": [],
   "source": [
    "def save_model(model, i):\n",
    "    sd = model.state_dict()\n",
    "    torch.save(model.state_dict(), 'resnet18_%s.pth.tar' % i)\n",
    "save_model(model, 'net21')"
   ]
  },
  {
   "cell_type": "code",
   "execution_count": null,
   "id": "8b425e5e",
   "metadata": {},
   "outputs": [],
   "source": []
  },
  {
   "cell_type": "code",
   "execution_count": null,
   "id": "213dee70",
   "metadata": {},
   "outputs": [],
   "source": []
  },
  {
   "cell_type": "code",
   "execution_count": 13,
   "id": "40a37e09",
   "metadata": {},
   "outputs": [],
   "source": [
    "def viz(w, show=True):\n",
    "    w = w.detach().cpu()\n",
    "#     print(w.min(), w.max() - w.min())\n",
    "#     w = w - w.min()\n",
    "#     w = w / w.max()\n",
    "    w = (w + 1.0) / 2.0\n",
    "    \n",
    "    if len(w.shape) == 3:\n",
    "        w = w.unsqueeze(0)\n",
    "    if w.shape[0] > 1:\n",
    "        w = torchvision.utils.make_grid(w)\n",
    "    else:\n",
    "        w = w.squeeze(0)\n",
    "    w = w.permute(1, 2, 0)\n",
    "    if show:\n",
    "        plt.figure(figsize=(10, 10))\n",
    "        plt.imshow(w)\n",
    "        plt.axis('off')\n",
    "        plt.show()\n",
    "    else:\n",
    "        return w"
   ]
  },
  {
   "cell_type": "code",
   "execution_count": 14,
   "id": "e3099e60",
   "metadata": {},
   "outputs": [
    {
     "data": {
      "image/png": "[encoded data removed]",
      "text/plain": [
       "<Figure size 720x720 with 1 Axes>"
      ]
     },
     "metadata": {
      "needs_background": "light"
     },
     "output_type": "display_data"
    }
   ],
   "source": [
    "viz(model.conv1.weight)"
   ]
  },
  {
   "cell_type": "code",
   "execution_count": 15,
   "id": "aa493ade",
   "metadata": {},
   "outputs": [
    {
     "data": {
      "text/plain": [
       "64.0"
      ]
     },
     "execution_count": 15,
     "metadata": {},
     "output_type": "execute_result"
    }
   ],
   "source": [
    "(model.conv1.weight.data.abs().reshape(64, -1).sum(1) > 1e-4).float().sum().item()"
   ]
  },
  {
   "cell_type": "code",
   "execution_count": null,
   "id": "86dad9a7",
   "metadata": {},
   "outputs": [],
   "source": []
  },
  {
   "cell_type": "code",
   "execution_count": 16,
   "id": "9fc5f98d",
   "metadata": {},
   "outputs": [
    {
     "data": {
      "image/png": "[encoded data removed]",
      "text/plain": [
       "<Figure size 432x288 with 1 Axes>"
      ]
     },
     "metadata": {
      "needs_background": "light"
     },
     "output_type": "display_data"
    }
   ],
   "source": [
    "plt.plot(losses)\n",
    "plt.show()"
   ]
  },
  {
   "cell_type": "code",
   "execution_count": null,
   "id": "b4c75e24",
   "metadata": {},
   "outputs": [],
   "source": []
  }
 ],
 "metadata": {
  "kernelspec": {
   "display_name": "Python 3 (ipykernel)",
   "language": "python",
   "name": "python3"
  },
  "language_info": {
   "codemirror_mode": {
    "name": "ipython",
    "version": 3
   },
   "file_extension": ".py",
   "mimetype": "text/x-python",
   "name": "python",
   "nbconvert_exporter": "python",
   "pygments_lexer": "ipython3",
   "version": "3.9.12"
  }
 },
 "nbformat": 4,
 "nbformat_minor": 5
}
