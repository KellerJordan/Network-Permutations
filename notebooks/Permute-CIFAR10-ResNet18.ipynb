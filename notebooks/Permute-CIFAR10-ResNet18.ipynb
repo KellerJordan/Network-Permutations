{
 "cells": [
  {
   "cell_type": "code",
   "execution_count": 1,
   "id": "891da36b",
   "metadata": {},
   "outputs": [],
   "source": [
    "import os\n",
    "import sys"
   ]
  },
  {
   "cell_type": "code",
   "execution_count": 2,
   "id": "c0db779d",
   "metadata": {},
   "outputs": [],
   "source": [
    "import glob\n",
    "import uuid\n",
    "\n",
    "from tqdm import tqdm\n",
    "import numpy as np\n",
    "import pandas as pd\n",
    "import matplotlib.pyplot as plt\n",
    "import scipy.optimize\n",
    "\n",
    "import torch\n",
    "from torch import nn\n",
    "from torch.cuda.amp import autocast\n",
    "import torchvision\n",
    "import torchvision.transforms as T"
   ]
  },
  {
   "cell_type": "code",
   "execution_count": 3,
   "id": "73f01b04",
   "metadata": {},
   "outputs": [],
   "source": [
    "def viz(w, show=True):\n",
    "    w = w.detach().cpu()\n",
    "#     w = w - w.min()\n",
    "#     w = w / w.max()\n",
    "    w = (w + 1.0) / 2.0\n",
    "    \n",
    "    if len(w.shape) == 3:\n",
    "        w = w.unsqueeze(0)\n",
    "    if w.shape[0] > 1:\n",
    "        w = torchvision.utils.make_grid(w)\n",
    "    else:\n",
    "        w = w.squeeze(0)\n",
    "    w = w.permute(1, 2, 0)\n",
    "    if show:\n",
    "        plt.figure(figsize=(10, 10))\n",
    "        plt.imshow(w)\n",
    "        plt.axis('off')\n",
    "        plt.show()\n",
    "    else:\n",
    "        return w"
   ]
  },
  {
   "cell_type": "markdown",
   "id": "fdf1a55e",
   "metadata": {},
   "source": [
    "# setup"
   ]
  },
  {
   "cell_type": "code",
   "execution_count": 4,
   "id": "c477d1e9",
   "metadata": {},
   "outputs": [],
   "source": [
    "def save_model(model, i):\n",
    "    sd = model.state_dict()\n",
    "    torch.save(model.state_dict(), 'resnet18_%s.pth.tar' % i)\n",
    "\n",
    "def load_model(model, i):\n",
    "    sd = torch.load('resnet18_%s.pth.tar' % i)\n",
    "    model.load_state_dict(sd)"
   ]
  },
  {
   "cell_type": "code",
   "execution_count": 5,
   "id": "f3a59756",
   "metadata": {},
   "outputs": [],
   "source": [
    "from ffcv.fields import IntField, RGBImageField\n",
    "from ffcv.fields.decoders import IntDecoder, SimpleRGBImageDecoder\n",
    "from ffcv.loader import Loader, OrderOption\n",
    "from ffcv.transforms import RandomHorizontalFlip, Cutout, \\\n",
    "    RandomTranslate, Convert, ToDevice, ToTensor, ToTorchImage\n",
    "from ffcv.transforms.common import Squeeze\n",
    "\n",
    "CIFAR_MEAN = [125.307, 122.961, 113.8575]\n",
    "CIFAR_STD = [51.5865, 50.847, 51.255]\n",
    "\n",
    "## fast FFCV data loaders\n",
    "device = 'cuda:0' \n",
    "label_pipeline = [IntDecoder(), ToTensor(), ToDevice(device), Squeeze()]\n",
    "image_pipeline = [\n",
    "    SimpleRGBImageDecoder(),\n",
    "    ToTensor(),\n",
    "    ToDevice(device, non_blocking=True),\n",
    "    ToTorchImage(),\n",
    "    Convert(torch.float16),\n",
    "    T.Normalize(CIFAR_MEAN, CIFAR_STD),\n",
    "]\n",
    "image_aug_pipeline = [\n",
    "    SimpleRGBImageDecoder(),\n",
    "    #\n",
    "    RandomHorizontalFlip(),\n",
    "    RandomTranslate(padding=2),\n",
    "    Cutout(12, tuple(map(int, CIFAR_MEAN))),\n",
    "    #\n",
    "    ToTensor(),\n",
    "    ToDevice(device, non_blocking=True),\n",
    "    ToTorchImage(),\n",
    "    Convert(torch.float16),\n",
    "    T.Normalize(CIFAR_MEAN, CIFAR_STD),\n",
    "]\n",
    "\n",
    "# Create loaders\n",
    "train_aug_loader = Loader(f'/tmp/cifar_train.beton',\n",
    "                      batch_size=512,\n",
    "                      num_workers=8,\n",
    "                      order=OrderOption.RANDOM,\n",
    "                      drop_last=True,\n",
    "                      pipelines={'image': image_aug_pipeline,\n",
    "                                 'label': label_pipeline})\n",
    "train_loader = Loader(f'/tmp/cifar_train.beton',\n",
    "                      batch_size=512,\n",
    "                      num_workers=8,\n",
    "                      order=OrderOption.RANDOM,\n",
    "                      drop_last=True,\n",
    "                      pipelines={'image': image_pipeline,\n",
    "                                 'label': label_pipeline})\n",
    "test_loader = Loader(f'/tmp/cifar_test.beton',\n",
    "                     batch_size=512,\n",
    "                     num_workers=8,\n",
    "                     order=OrderOption.SEQUENTIAL,\n",
    "                     drop_last=False,\n",
    "                     pipelines={'image': image_pipeline,\n",
    "                                'label': label_pipeline})\n",
    "# this loader will be used to compute the permutation\n",
    "val_loader = train_loader\n",
    "# val_loader = train_aug_loader"
   ]
  },
  {
   "cell_type": "code",
   "execution_count": 6,
   "id": "31e22780",
   "metadata": {},
   "outputs": [],
   "source": [
    "def evaluate(model, loader=test_loader, set_eval=True):\n",
    "    if set_eval:\n",
    "        model.eval()\n",
    "    else:\n",
    "        model.train()\n",
    "    correct = 0\n",
    "    with torch.no_grad(), autocast():\n",
    "        for batch in loader:\n",
    "            inputs, labels = batch\n",
    "            outputs = model(inputs.cuda())\n",
    "            pred = outputs.argmax(dim=1)\n",
    "            correct += (labels == pred).sum().item()\n",
    "    return correct"
   ]
  },
  {
   "cell_type": "code",
   "execution_count": 7,
   "id": "122fde94",
   "metadata": {},
   "outputs": [],
   "source": [
    "from torch import nn\n",
    "import torch.nn.functional as F\n",
    "\n",
    "def conv3x3(in_planes, out_planes, stride=1):\n",
    "    return nn.Conv2d(in_planes, out_planes, kernel_size=3, stride=stride, padding=1, bias=False)\n",
    "\n",
    "class BasicBlock(nn.Module):\n",
    "    expansion = 1\n",
    "\n",
    "    def __init__(self, in_planes, planes, stride=1):\n",
    "        super().__init__()\n",
    "        self.conv1 = conv3x3(in_planes, planes, stride)\n",
    "        self.bn1 = nn.BatchNorm2d(planes)\n",
    "        self.conv2 = conv3x3(planes, planes)\n",
    "        self.bn2 = nn.BatchNorm2d(planes)\n",
    "\n",
    "        self.shortcut = nn.Sequential()\n",
    "        if stride != 1 or in_planes != self.expansion*planes:\n",
    "            self.shortcut = nn.Sequential(\n",
    "                nn.Conv2d(in_planes, self.expansion*planes, kernel_size=1, stride=stride, bias=False),\n",
    "                nn.BatchNorm2d(self.expansion*planes)\n",
    "            )\n",
    "\n",
    "    def forward(self, x):\n",
    "        out = F.relu(self.bn1(self.conv1(x)))\n",
    "        out = self.bn2(self.conv2(out))\n",
    "        out += self.shortcut(x)\n",
    "        out = F.relu(out)\n",
    "        return out\n",
    "\n",
    "class ResNet(nn.Module):\n",
    "    def __init__(self, block, num_blocks, num_classes=10):\n",
    "        super().__init__()\n",
    "        self.in_planes = 64\n",
    "\n",
    "        self.conv1 = conv3x3(3,64)\n",
    "        self.bn1 = nn.BatchNorm2d(64)\n",
    "        self.layer1 = self._make_layer(block, 64, num_blocks[0], stride=1)\n",
    "        self.layer2 = self._make_layer(block, 128, num_blocks[1], stride=2)\n",
    "        self.layer3 = self._make_layer(block, 256, num_blocks[2], stride=2)\n",
    "        self.layer4 = self._make_layer(block, 512, num_blocks[3], stride=2)\n",
    "        self.linear = nn.Linear(512*block.expansion, num_classes)\n",
    "\n",
    "    def _make_layer(self, block, planes, num_blocks, stride):\n",
    "        strides = [stride] + [1]*(num_blocks-1)\n",
    "        layers = []\n",
    "        for stride in strides:\n",
    "            layers.append(block(self.in_planes, planes, stride))\n",
    "            self.in_planes = planes * block.expansion\n",
    "        return nn.Sequential(*layers)\n",
    "\n",
    "    def forward(self, x):\n",
    "        out = F.relu(self.bn1(self.conv1(x)))\n",
    "        out = self.layer1(out)\n",
    "        out = self.layer2(out)\n",
    "        out = self.layer3(out)\n",
    "        out = self.layer4(out)\n",
    "        out = F.avg_pool2d(out, 4)\n",
    "        out = out.view(out.size(0), -1)\n",
    "        out = self.linear(out)\n",
    "        return out\n",
    "\n",
    "def ResNet18(num_classes=10):\n",
    "    return ResNet(BasicBlock, [2,2,2,2], num_classes)"
   ]
  },
  {
   "cell_type": "markdown",
   "id": "a25cacbb",
   "metadata": {},
   "source": [
    "### matching code"
   ]
  },
  {
   "cell_type": "code",
   "execution_count": 8,
   "id": "363e68ea",
   "metadata": {},
   "outputs": [],
   "source": [
    "# given two networks net0, net1 which each output a feature map of shape NxCxWxH\n",
    "# this will reshape both outputs to (N*W*H)xC\n",
    "# and then compute a CxC correlation matrix between the outputs of the two networks\n",
    "def run_corr_matrix(net0, net1):\n",
    "    n = len(val_loader)\n",
    "    mean0 = mean1 = std0 = std1 = None\n",
    "    with torch.no_grad():\n",
    "        net0.eval()\n",
    "        net1.eval()\n",
    "        for i, (images, target) in enumerate(tqdm(val_loader)):\n",
    "            out0 = net0(images.float())\n",
    "            out0 = out0.reshape(out0.shape[0], out0.shape[1], -1).permute(0, 2, 1)\n",
    "            out0 = out0.reshape(-1, out0.shape[2]).float()\n",
    "            \n",
    "            out1 = net1(images.float())\n",
    "            out1 = out1.reshape(out1.shape[0], out1.shape[1], -1).permute(0, 2, 1)\n",
    "            out1 = out1.reshape(-1, out1.shape[2]).float()\n",
    "            \n",
    "            mean0_b = out0.mean(dim=0)\n",
    "            mean1_b = out1.mean(dim=0)\n",
    "            std0_b = out0.std(dim=0)\n",
    "            std1_b = out1.std(dim=0)\n",
    "            outer_b = (out0.T @ out1) / out0.shape[0]\n",
    "            \n",
    "            if i == 0:\n",
    "                mean0 = torch.zeros_like(mean0_b)\n",
    "                mean1 = torch.zeros_like(mean1_b)\n",
    "                std0 = torch.zeros_like(std0_b)\n",
    "                std1 = torch.zeros_like(std1_b)\n",
    "                outer = torch.zeros_like(outer_b)\n",
    "            mean0 += mean0_b / n\n",
    "            mean1 += mean1_b / n\n",
    "            std0 += std0_b / n\n",
    "            std1 += std1_b / n\n",
    "            outer += outer_b / n\n",
    "\n",
    "    cov = outer - torch.outer(mean0, mean1)\n",
    "    corr = cov / (torch.outer(std0, std1) + 1e-4)\n",
    "    return corr"
   ]
  },
  {
   "cell_type": "code",
   "execution_count": 9,
   "id": "1f9ef263",
   "metadata": {},
   "outputs": [],
   "source": [
    "def compute_perm_map(corr_mtx):\n",
    "    # sort the (i, j) channel pairs by correlation\n",
    "    nchan = corr_mtx.shape[0]\n",
    "    triples = [(i, j, corr_mtx[i, j].item()) for i in range(nchan) for j in range(nchan)]\n",
    "    triples = sorted(triples, key=lambda p: -p[2])\n",
    "    # greedily find a matching\n",
    "    perm_d = {}\n",
    "    for i, j, c in triples:\n",
    "        if not (i in perm_d.keys() or j in perm_d.values()):\n",
    "            perm_d[i] = j\n",
    "    perm_map = torch.tensor([perm_d[i] for i in range(nchan)])\n",
    "\n",
    "    # qual_map will be a permutation of the indices in the order\n",
    "    # of the quality / degree of correlation between the neurons found in the permutation.\n",
    "    # this just for visualization purposes.\n",
    "    qual_l = [corr_mtx[i, perm_map[i]].item() for i in range(nchan)]\n",
    "    qual_map = torch.tensor(sorted(range(nchan), key=lambda i: -qual_l[i]))\n",
    "\n",
    "    return perm_map, qual_map\n",
    "\n",
    "# returns the channel-permutation to make layer1's activations most closely\n",
    "# match layer0's.\n",
    "def get_layer_perm(net0, net1, method='max_weight', vizz=False):\n",
    "    corr_mtx = run_corr_matrix(net0, net1)\n",
    "    \n",
    "    if method == 'greedy':\n",
    "        perm_map, qual_map = compute_perm_map(corr_mtx)\n",
    "        if vizz:\n",
    "            corr_mtx_viz = (corr_mtx[qual_map].T[perm_map[qual_map]]).T\n",
    "            viz(corr_mtx_viz)\n",
    "    elif method == 'max_weight':\n",
    "        corr_mtx_a = corr_mtx.cpu().numpy()\n",
    "        row_ind, col_ind = scipy.optimize.linear_sum_assignment(corr_mtx_a, maximize=True)\n",
    "        assert (row_ind == np.arange(len(corr_mtx_a))).all()\n",
    "        perm_map = torch.tensor(col_ind).long()\n",
    "    else:\n",
    "        raise Exception('Unknown method: %s' % method)\n",
    "        \n",
    "    return perm_map"
   ]
  },
  {
   "cell_type": "code",
   "execution_count": 10,
   "id": "f1aae9be",
   "metadata": {},
   "outputs": [],
   "source": [
    "# modifies the weight matrices of a convolution and batchnorm\n",
    "# layer given a permutation of the output channels\n",
    "def permute_output(perm_map, conv, bn):\n",
    "    pre_weights = [\n",
    "        conv.weight,\n",
    "        bn.weight,\n",
    "        bn.bias,\n",
    "        bn.running_mean,\n",
    "        bn.running_var,\n",
    "    ]\n",
    "    for w in pre_weights:\n",
    "        w.data = w[perm_map]\n",
    "\n",
    "# modifies the weight matrix of a convolution layer for a given\n",
    "# permutation of the input channels\n",
    "def permute_input(perm_map, after_convs):\n",
    "    if not isinstance(after_convs, list):\n",
    "        after_convs = [after_convs]\n",
    "    post_weights = [c.weight for c in after_convs]\n",
    "    for w in post_weights:\n",
    "        w.data = w[:, perm_map, :, :]"
   ]
  },
  {
   "cell_type": "markdown",
   "id": "09c8b84a",
   "metadata": {},
   "source": [
    "# Find permutation for each layer"
   ]
  },
  {
   "cell_type": "code",
   "execution_count": 11,
   "id": "c0db278e",
   "metadata": {
    "scrolled": false
   },
   "outputs": [
    {
     "data": {
      "text/plain": [
       "(9572, 9581)"
      ]
     },
     "execution_count": 11,
     "metadata": {},
     "output_type": "execute_result"
    }
   ],
   "source": [
    "model0 = ResNet18().cuda()\n",
    "model1 = ResNet18().cuda()\n",
    "\n",
    "load_model(model0, 'net3')\n",
    "load_model(model1, 'net4')\n",
    "# load_model(model0, 'net21')\n",
    "# load_model(model1, 'net22')\n",
    "\n",
    "evaluate(model0), evaluate(model1)"
   ]
  },
  {
   "cell_type": "markdown",
   "id": "fbb660be",
   "metadata": {},
   "source": [
    "## layer1"
   ]
  },
  {
   "cell_type": "code",
   "execution_count": 12,
   "id": "0a855e63",
   "metadata": {},
   "outputs": [
    {
     "name": "stderr",
     "output_type": "stream",
     "text": [
      "100%|███████████████████████████████████████████████████████████████████████████████████████████████████████████████████████████████████████████████████████████████| 97/97 [00:01<00:00, 93.25it/s]\n"
     ]
    }
   ],
   "source": [
    "class Subnet(nn.Module):\n",
    "    def __init__(self, model):\n",
    "        super().__init__()\n",
    "        self.model = model\n",
    "    def forward(self, x):\n",
    "        self = self.model\n",
    "        x = self.conv1(x)\n",
    "        return x\n",
    "perm_map = get_layer_perm(Subnet(model0), Subnet(model1))\n",
    "permute_output(perm_map, model1.conv1, model1.bn1)\n",
    "permute_output(perm_map, model1.layer1[0].conv2, model1.layer1[0].bn2)\n",
    "permute_output(perm_map, model1.layer1[1].conv2, model1.layer1[1].bn2)\n",
    "permute_input(perm_map, [model1.layer1[0].conv1, model1.layer1[1].conv1,\n",
    "                         model1.layer2[0].conv1, model1.layer2[0].shortcut[0]])"
   ]
  },
  {
   "cell_type": "code",
   "execution_count": 13,
   "id": "d9f055c7",
   "metadata": {},
   "outputs": [
    {
     "name": "stderr",
     "output_type": "stream",
     "text": [
      "100%|██████████████████████████████████████████████████████████████████████████████████████████████████████████████████████████████████████████████████████████████| 97/97 [00:00<00:00, 115.91it/s]\n"
     ]
    }
   ],
   "source": [
    "class Subnet(nn.Module):\n",
    "    def __init__(self, model):\n",
    "        super().__init__()\n",
    "        self.model = model\n",
    "    def forward(self, x):\n",
    "        self = self.model\n",
    "        x = F.relu(self.bn1(self.conv1(x)))\n",
    "        x = self.layer1[0].conv1(x)\n",
    "        return x\n",
    "perm_map = get_layer_perm(Subnet(model0), Subnet(model1))\n",
    "permute_output(perm_map, model1.layer1[0].conv1, model1.layer1[0].bn1)\n",
    "permute_input(perm_map, model1.layer1[0].conv2)"
   ]
  },
  {
   "cell_type": "code",
   "execution_count": 14,
   "id": "3e83e15e",
   "metadata": {},
   "outputs": [
    {
     "name": "stderr",
     "output_type": "stream",
     "text": [
      "100%|███████████████████████████████████████████████████████████████████████████████████████████████████████████████████████████████████████████████████████████████| 97/97 [00:01<00:00, 50.02it/s]\n"
     ]
    }
   ],
   "source": [
    "class Subnet(nn.Module):\n",
    "    def __init__(self, model):\n",
    "        super().__init__()\n",
    "        self.model = model\n",
    "    def forward(self, x):\n",
    "        self = self.model\n",
    "        x = F.relu(self.bn1(self.conv1(x)))\n",
    "        x = self.layer1[0](x)\n",
    "        x = self.layer1[1].conv1(x)\n",
    "        return x\n",
    "perm_map = get_layer_perm(Subnet(model0), Subnet(model1))\n",
    "permute_output(perm_map, model1.layer1[1].conv1, model1.layer1[1].bn1)\n",
    "permute_input(perm_map, model1.layer1[1].conv2)"
   ]
  },
  {
   "cell_type": "markdown",
   "id": "c41ede4a",
   "metadata": {},
   "source": [
    "## layer2"
   ]
  },
  {
   "cell_type": "code",
   "execution_count": 15,
   "id": "b0ed365a",
   "metadata": {},
   "outputs": [
    {
     "name": "stderr",
     "output_type": "stream",
     "text": [
      "100%|███████████████████████████████████████████████████████████████████████████████████████████████████████████████████████████████████████████████████████████████| 97/97 [00:02<00:00, 32.94it/s]\n"
     ]
    }
   ],
   "source": [
    "class Subnet(nn.Module):\n",
    "    def __init__(self, model):\n",
    "        super().__init__()\n",
    "        self.model = model\n",
    "    def forward(self, x):\n",
    "        self = self.model\n",
    "        x = F.relu(self.bn1(self.conv1(x)))\n",
    "        x = self.layer1(x)\n",
    "        x = self.layer2[0].conv1(x)\n",
    "        return x\n",
    "perm_map = get_layer_perm(Subnet(model0), Subnet(model1))\n",
    "permute_output(perm_map, model1.layer2[0].conv1, model1.layer2[0].bn1)\n",
    "permute_input(perm_map, model1.layer2[0].conv2)"
   ]
  },
  {
   "cell_type": "code",
   "execution_count": 16,
   "id": "1b97037f",
   "metadata": {},
   "outputs": [
    {
     "name": "stderr",
     "output_type": "stream",
     "text": [
      "100%|███████████████████████████████████████████████████████████████████████████████████████████████████████████████████████████████████████████████████████████████| 97/97 [00:03<00:00, 30.48it/s]\n"
     ]
    }
   ],
   "source": [
    "class Subnet(nn.Module):\n",
    "    def __init__(self, model):\n",
    "        super().__init__()\n",
    "        self.model = model\n",
    "    def forward(self, x):\n",
    "        self = self.model\n",
    "        x = F.relu(self.bn1(self.conv1(x)))\n",
    "        x = self.layer1(x)\n",
    "        block = self.layer2[0]\n",
    "        x = F.relu(block.bn1(block.conv1(x)))\n",
    "        x = block.conv2(x)\n",
    "        return x\n",
    "perm_map = get_layer_perm(Subnet(model0), Subnet(model1))\n",
    "permute_output(perm_map, model1.layer2[0].conv2, model1.layer2[0].bn2)\n",
    "permute_output(perm_map, model1.layer2[1].conv2, model1.layer2[1].bn2)\n",
    "permute_output(perm_map, model1.layer2[0].shortcut[0], model1.layer2[0].shortcut[1])\n",
    "permute_input(perm_map, [model1.layer2[1].conv1,\n",
    "                         model1.layer3[0].conv1, model1.layer3[0].shortcut[0]])"
   ]
  },
  {
   "cell_type": "code",
   "execution_count": 17,
   "id": "82131c53",
   "metadata": {
    "scrolled": true
   },
   "outputs": [
    {
     "name": "stderr",
     "output_type": "stream",
     "text": [
      "100%|███████████████████████████████████████████████████████████████████████████████████████████████████████████████████████████████████████████████████████████████| 97/97 [00:03<00:00, 26.14it/s]\n"
     ]
    }
   ],
   "source": [
    "class Subnet(nn.Module):\n",
    "    def __init__(self, model):\n",
    "        super().__init__()\n",
    "        self.model = model\n",
    "    def forward(self, x):\n",
    "        self = self.model\n",
    "        x = F.relu(self.bn1(self.conv1(x)))\n",
    "        x = self.layer1(x)\n",
    "        x = self.layer2[0](x)\n",
    "        x = self.layer2[1].conv1(x)\n",
    "        return x\n",
    "perm_map = get_layer_perm(Subnet(model0), Subnet(model1))\n",
    "permute_output(perm_map, model1.layer2[1].conv1, model1.layer2[1].bn1)\n",
    "permute_input(perm_map, model1.layer2[1].conv2)"
   ]
  },
  {
   "cell_type": "markdown",
   "id": "00421a27",
   "metadata": {},
   "source": [
    "## layer3"
   ]
  },
  {
   "cell_type": "code",
   "execution_count": 18,
   "id": "44e915a4",
   "metadata": {},
   "outputs": [
    {
     "name": "stderr",
     "output_type": "stream",
     "text": [
      "100%|███████████████████████████████████████████████████████████████████████████████████████████████████████████████████████████████████████████████████████████████| 97/97 [00:03<00:00, 24.82it/s]\n"
     ]
    }
   ],
   "source": [
    "class Subnet(nn.Module):\n",
    "    def __init__(self, model):\n",
    "        super().__init__()\n",
    "        self.model = model\n",
    "    def forward(self, x):\n",
    "        self = self.model\n",
    "        x = F.relu(self.bn1(self.conv1(x)))\n",
    "        x = self.layer1(x)\n",
    "        x = self.layer2(x)\n",
    "        x = self.layer3[0].conv1(x)\n",
    "        return x\n",
    "perm_map = get_layer_perm(Subnet(model0), Subnet(model1))\n",
    "permute_output(perm_map, model1.layer3[0].conv1, model1.layer3[0].bn1)\n",
    "permute_input(perm_map, model1.layer3[0].conv2)"
   ]
  },
  {
   "cell_type": "code",
   "execution_count": 19,
   "id": "cebd8eb5",
   "metadata": {},
   "outputs": [
    {
     "name": "stderr",
     "output_type": "stream",
     "text": [
      "100%|███████████████████████████████████████████████████████████████████████████████████████████████████████████████████████████████████████████████████████████████| 97/97 [00:04<00:00, 24.11it/s]\n"
     ]
    }
   ],
   "source": [
    "class Subnet(nn.Module):\n",
    "    def __init__(self, model):\n",
    "        super().__init__()\n",
    "        self.model = model\n",
    "    def forward(self, x):\n",
    "        self = self.model\n",
    "        x = F.relu(self.bn1(self.conv1(x)))\n",
    "        x = self.layer1(x)\n",
    "        x = self.layer2(x)\n",
    "        block = self.layer3[0]\n",
    "        x = F.relu(block.bn1(block.conv1(x)))\n",
    "        x = block.conv2(x)\n",
    "        return x\n",
    "perm_map = get_layer_perm(Subnet(model0), Subnet(model1))\n",
    "permute_output(perm_map, model1.layer3[0].conv2, model1.layer3[0].bn2)\n",
    "permute_output(perm_map, model1.layer3[1].conv2, model1.layer3[1].bn2)\n",
    "permute_output(perm_map, model1.layer3[0].shortcut[0], model1.layer3[0].shortcut[1])\n",
    "permute_input(perm_map, [model1.layer3[1].conv1,\n",
    "                         model1.layer4[0].conv1, model1.layer4[0].shortcut[0]])"
   ]
  },
  {
   "cell_type": "code",
   "execution_count": 20,
   "id": "1c27c042",
   "metadata": {},
   "outputs": [
    {
     "name": "stderr",
     "output_type": "stream",
     "text": [
      "100%|███████████████████████████████████████████████████████████████████████████████████████████████████████████████████████████████████████████████████████████████| 97/97 [00:04<00:00, 21.90it/s]\n"
     ]
    }
   ],
   "source": [
    "class Subnet(nn.Module):\n",
    "    def __init__(self, model):\n",
    "        super().__init__()\n",
    "        self.model = model\n",
    "    def forward(self, x):\n",
    "        self = self.model\n",
    "        x = F.relu(self.bn1(self.conv1(x)))\n",
    "        x = self.layer1(x)\n",
    "        x = self.layer2(x)\n",
    "        x = self.layer3[0](x)\n",
    "        x = self.layer3[1].conv1(x)\n",
    "        return x\n",
    "perm_map = get_layer_perm(Subnet(model0), Subnet(model1))\n",
    "permute_output(perm_map, model1.layer3[1].conv1, model1.layer3[1].bn1)\n",
    "permute_input(perm_map, model1.layer3[1].conv2)"
   ]
  },
  {
   "cell_type": "markdown",
   "id": "7ea886b7",
   "metadata": {},
   "source": [
    "## layer4"
   ]
  },
  {
   "cell_type": "code",
   "execution_count": 21,
   "id": "b5970667",
   "metadata": {},
   "outputs": [
    {
     "name": "stderr",
     "output_type": "stream",
     "text": [
      "100%|███████████████████████████████████████████████████████████████████████████████████████████████████████████████████████████████████████████████████████████████| 97/97 [00:04<00:00, 19.91it/s]\n"
     ]
    }
   ],
   "source": [
    "class Subnet(nn.Module):\n",
    "    def __init__(self, model):\n",
    "        super().__init__()\n",
    "        self.model = model\n",
    "    def forward(self, x):\n",
    "        self = self.model\n",
    "        x = F.relu(self.bn1(self.conv1(x)))\n",
    "        x = self.layer1(x)\n",
    "        x = self.layer2(x)\n",
    "        x = self.layer3(x)\n",
    "        x = self.layer4[0].conv1(x)\n",
    "        return x\n",
    "perm_map = get_layer_perm(Subnet(model0), Subnet(model1))\n",
    "permute_output(perm_map, model1.layer4[0].conv1, model1.layer4[0].bn1)\n",
    "permute_input(perm_map, model1.layer4[0].conv2)"
   ]
  },
  {
   "cell_type": "code",
   "execution_count": 22,
   "id": "64e9a8f4",
   "metadata": {},
   "outputs": [
    {
     "name": "stderr",
     "output_type": "stream",
     "text": [
      "100%|███████████████████████████████████████████████████████████████████████████████████████████████████████████████████████████████████████████████████████████████| 97/97 [00:04<00:00, 19.51it/s]\n"
     ]
    }
   ],
   "source": [
    "class Subnet(nn.Module):\n",
    "    def __init__(self, model):\n",
    "        super().__init__()\n",
    "        self.model = model\n",
    "    def forward(self, x):\n",
    "        self = self.model\n",
    "        x = F.relu(self.bn1(self.conv1(x)))\n",
    "        x = self.layer1(x)\n",
    "        x = self.layer2(x)\n",
    "        x = self.layer3(x)\n",
    "        block = self.layer4[0]\n",
    "        x = F.relu(block.bn1(block.conv1(x)))\n",
    "        x = block.conv2(x)\n",
    "        return x\n",
    "perm_map = get_layer_perm(Subnet(model0), Subnet(model1))\n",
    "permute_output(perm_map, model1.layer4[0].conv2, model1.layer4[0].bn2)\n",
    "permute_output(perm_map, model1.layer4[1].conv2, model1.layer4[1].bn2)\n",
    "permute_output(perm_map, model1.layer4[0].shortcut[0], model1.layer4[0].shortcut[1])\n",
    "permute_input(perm_map, model1.layer4[1].conv1)\n",
    "model1.linear.weight.data = model1.linear.weight[:, perm_map]"
   ]
  },
  {
   "cell_type": "code",
   "execution_count": 23,
   "id": "7d63f2a2",
   "metadata": {
    "scrolled": true
   },
   "outputs": [
    {
     "name": "stderr",
     "output_type": "stream",
     "text": [
      "100%|███████████████████████████████████████████████████████████████████████████████████████████████████████████████████████████████████████████████████████████████| 97/97 [00:05<00:00, 18.69it/s]\n"
     ]
    }
   ],
   "source": [
    "class Subnet(nn.Module):\n",
    "    def __init__(self, model):\n",
    "        super().__init__()\n",
    "        self.model = model\n",
    "    def forward(self, x):\n",
    "        self = self.model\n",
    "        x = F.relu(self.bn1(self.conv1(x)))\n",
    "        x = self.layer1(x)\n",
    "        x = self.layer2(x)\n",
    "        x = self.layer3(x)\n",
    "        x = self.layer4[0](x)\n",
    "        x = self.layer4[1].conv1(x)\n",
    "        return x\n",
    "perm_map = get_layer_perm(Subnet(model0), Subnet(model1))\n",
    "permute_output(perm_map, model1.layer4[1].conv1, model1.layer4[1].bn1)\n",
    "permute_input(perm_map, model1.layer4[1].conv2)"
   ]
  },
  {
   "cell_type": "markdown",
   "id": "bc494077",
   "metadata": {},
   "source": [
    "## done"
   ]
  },
  {
   "cell_type": "code",
   "execution_count": 24,
   "id": "1016f1d5",
   "metadata": {
    "scrolled": true
   },
   "outputs": [
    {
     "data": {
      "text/plain": [
       "9582"
      ]
     },
     "execution_count": 24,
     "metadata": {},
     "output_type": "execute_result"
    }
   ],
   "source": [
    "evaluate(model1)"
   ]
  },
  {
   "cell_type": "code",
   "execution_count": 49,
   "id": "8308bc75",
   "metadata": {},
   "outputs": [],
   "source": [
    "save_model(model1, 'net4_perm2')"
   ]
  },
  {
   "cell_type": "markdown",
   "id": "f7a3ae90",
   "metadata": {},
   "source": [
    "## mix weights"
   ]
  },
  {
   "cell_type": "code",
   "execution_count": 26,
   "id": "14e7a1eb",
   "metadata": {},
   "outputs": [],
   "source": [
    "model_a = ResNet18().cuda(0) # W_\\alpha\n",
    "def mix_weights(alpha, key0, key1, reset_bn=False):\n",
    "    sd0 = torch.load('resnet18_%s.pth.tar' % key0)\n",
    "    sd1 = torch.load('resnet18_%s.pth.tar' % key1)\n",
    "    sd_alpha = {k: (1 - alpha) * sd0[k].cuda() + alpha * sd1[k].cuda()\n",
    "                for k in sd0.keys()}\n",
    "    model_a.load_state_dict(sd_alpha)\n",
    "\n",
    "# use the train loader with data augmentation as this gives better results\n",
    "def reset_bn_stats(model, epochs=1):\n",
    "    # resetting stats to baseline first as below is necessary for stability\n",
    "    for m in model.modules():\n",
    "        if type(m) == nn.BatchNorm2d:\n",
    "            m.reset_running_stats()\n",
    "    # run a single train epoch with augmentations to recalc stats\n",
    "    model.train()\n",
    "    for _ in range(epochs):\n",
    "        with torch.no_grad(), autocast():\n",
    "            for images, _ in train_aug_loader:\n",
    "                output = model(images)"
   ]
  },
  {
   "cell_type": "code",
   "execution_count": 51,
   "id": "195883e5",
   "metadata": {},
   "outputs": [],
   "source": [
    "# mix_weights(0.0, 'net3', 'net4')"
   ]
  },
  {
   "cell_type": "code",
   "execution_count": 52,
   "id": "663700d1",
   "metadata": {},
   "outputs": [],
   "source": [
    "# evaluate(model_a, loader=train_loader)"
   ]
  },
  {
   "cell_type": "code",
   "execution_count": 53,
   "id": "1c150e09",
   "metadata": {},
   "outputs": [],
   "source": [
    "# reset_bn_stats(model_a)"
   ]
  },
  {
   "cell_type": "code",
   "execution_count": 40,
   "id": "973773b7",
   "metadata": {
    "scrolled": false
   },
   "outputs": [
    {
     "name": "stderr",
     "output_type": "stream",
     "text": [
      "100%|███████████████████████████████████████████████████████████████████████████████████████████████████████████████████████████████████████████████████████████████| 11/11 [00:10<00:00,  1.08it/s]\n"
     ]
    }
   ],
   "source": [
    "cc = []\n",
    "# xx = np.arange(0, 1.0001, 0.05)\n",
    "xx = np.arange(0, 1.0001, 0.1)\n",
    "for alpha in tqdm(xx):\n",
    "    \n",
    "    mix_weights(alpha, key0='net3', key1='net4')\n",
    "#     reset_bn_stats(model_a, epochs=1)\n",
    "    \n",
    "    c = evaluate(model_a, loader=test_loader, set_eval=False)\n",
    "#     c = evaluate(model_a, loader=train_loader, set_eval=True)\n",
    "#     c = evaluate_loss(model_a, loader=train_loader)\n",
    "    cc.append(c)\n",
    "cc = np.array(cc)\n",
    "\n",
    "# cc = 100*cc/50000\n",
    "cc = 100*cc/10000"
   ]
  },
  {
   "cell_type": "code",
   "execution_count": 37,
   "id": "7b141d12",
   "metadata": {},
   "outputs": [],
   "source": [
    "cc1 = cc"
   ]
  },
  {
   "cell_type": "code",
   "execution_count": 39,
   "id": "1836cddc",
   "metadata": {},
   "outputs": [],
   "source": [
    "cc2 = cc"
   ]
  },
  {
   "cell_type": "code",
   "execution_count": 41,
   "id": "b3c12052",
   "metadata": {},
   "outputs": [],
   "source": [
    "cc3 = cc"
   ]
  },
  {
   "cell_type": "code",
   "execution_count": 67,
   "id": "fd3b1304",
   "metadata": {},
   "outputs": [],
   "source": [
    "cc4 = cc"
   ]
  },
  {
   "cell_type": "code",
   "execution_count": 45,
   "id": "cc3a28f6",
   "metadata": {
    "scrolled": false
   },
   "outputs": [
    {
     "name": "stderr",
     "output_type": "stream",
     "text": [
      "No artists with labels found to put in legend.  Note that artists whose label start with an underscore are ignored when legend() is called with no argument.\n"
     ]
    },
    {
     "data": {
      "image/png": "[encoded data removed]",
      "text/plain": [
       "<Figure size 720x360 with 1 Axes>"
      ]
     },
     "metadata": {
      "needs_background": "light"
     },
     "output_type": "display_data"
    }
   ],
   "source": [
    "plt.figure(figsize=(10, 5))\n",
    "# plt.title('CIFAR-10 *training set loss*, interpolation between two ResNet18s (standard training)')\n",
    "plt.title('CIFAR-10 test set accuracy, interpolation between two ResNet18s')\n",
    "\n",
    "# plt.plot(xx, cc1, label='vanilla weight interpolation')\n",
    "# plt.plot(xx, cc2, label='just reset batchnorms')\n",
    "# plt.plot(xx, cc3, label='permute channels (greedy) and reset batchnorms')\n",
    "# plt.plot(xx, cc4, label='permute channels (Jonker-Volgenant) and reset batchnorms')\n",
    "\n",
    "# plt.plot(xx, cc12)\n",
    "# plt.plot(xx, cc1, label='test1')\n",
    "# plt.plot(xx, cc2, label='test2')\n",
    "\n",
    "plt.plot(xx, cc1)\n",
    "plt.plot(xx, cc2)\n",
    "plt.plot(xx, cc3)\n",
    "\n",
    "xx1 = np.arange(0, 1.001, 0.1)\n",
    "plt.xticks(xx1, ['%.1f' % x for x in xx1])\n",
    "# plt.ylim([0, 100])\n",
    "# plt.ylim([90, 100])\n",
    "# plt.ylim([9000, 10000])\n",
    "plt.xlabel('weight averaging alpha')\n",
    "plt.ylabel('accuracy')\n",
    "plt.legend()\n",
    "plt.show()"
   ]
  },
  {
   "cell_type": "code",
   "execution_count": null,
   "id": "708ec983",
   "metadata": {},
   "outputs": [],
   "source": []
  },
  {
   "cell_type": "code",
   "execution_count": null,
   "id": "c33c1688",
   "metadata": {},
   "outputs": [],
   "source": []
  },
  {
   "cell_type": "code",
   "execution_count": null,
   "id": "df7c2fe1",
   "metadata": {},
   "outputs": [],
   "source": []
  },
  {
   "cell_type": "code",
   "execution_count": null,
   "id": "ac677823",
   "metadata": {},
   "outputs": [],
   "source": []
  },
  {
   "cell_type": "code",
   "execution_count": null,
   "id": "6c09f09f",
   "metadata": {},
   "outputs": [],
   "source": []
  },
  {
   "cell_type": "code",
   "execution_count": 207,
   "id": "638ae775",
   "metadata": {},
   "outputs": [],
   "source": [
    "model0 = ResNet18().cuda()"
   ]
  },
  {
   "cell_type": "code",
   "execution_count": 210,
   "id": "dbbb3f0e",
   "metadata": {},
   "outputs": [
    {
     "data": {
      "text/plain": [
       "2.302380040748832"
      ]
     },
     "execution_count": 210,
     "metadata": {},
     "output_type": "execute_result"
    }
   ],
   "source": [
    "evaluate_loss(model0, loader=train_loader)"
   ]
  },
  {
   "cell_type": "code",
   "execution_count": null,
   "id": "8f654957",
   "metadata": {},
   "outputs": [],
   "source": []
  },
  {
   "cell_type": "code",
   "execution_count": 190,
   "id": "1ce67604",
   "metadata": {},
   "outputs": [],
   "source": [
    "def evaluate_loss(model, loader=test_loader, set_eval=True):\n",
    "    if set_eval:\n",
    "        model.eval()\n",
    "    else:\n",
    "        model.train()\n",
    "    avg_loss = 0\n",
    "    with torch.no_grad(), autocast():\n",
    "        for batch in loader:\n",
    "            inputs, labels = batch\n",
    "            outputs = model(inputs.cuda())\n",
    "            loss = F.cross_entropy(outputs, labels)\n",
    "            avg_loss += loss.item() / len(loader)\n",
    "    return avg_loss"
   ]
  }
 ],
 "metadata": {
  "kernelspec": {
   "display_name": "Python 3 (ipykernel)",
   "language": "python",
   "name": "python3"
  },
  "language_info": {
   "codemirror_mode": {
    "name": "ipython",
    "version": 3
   },
   "file_extension": ".py",
   "mimetype": "text/x-python",
   "name": "python",
   "nbconvert_exporter": "python",
   "pygments_lexer": "ipython3",
   "version": "3.9.12"
  }
 },
 "nbformat": 4,
 "nbformat_minor": 5
}
